{
 "cells": [
  {
   "cell_type": "markdown",
   "metadata": {},
   "source": [
    "# Отток клиентов"
   ]
  },
  {
   "cell_type": "markdown",
   "metadata": {},
   "source": [
    "Из «Бета-Банка» стали уходить клиенты. Каждый месяц. Немного, но заметно. Банковские маркетологи посчитали: сохранять текущих клиентов дешевле, чем привлекать новых.\n",
    "\n",
    "Нужно спрогнозировать, уйдёт клиент из банка в ближайшее время или нет. Вам предоставлены исторические данные о поведении клиентов и расторжении договоров с банком. \n",
    "\n",
    "Постройте модель с предельно большим значением *F1*-меры. Чтобы сдать проект успешно, нужно довести метрику до 0.59. Проверьте *F1*-меру на тестовой выборке самостоятельно.\n",
    "\n",
    "Дополнительно измеряйте *AUC-ROC*, сравнивайте её значение с *F1*-мерой.\n",
    "\n",
    "Источник данных: [https://www.kaggle.com/barelydedicated/bank-customer-churn-modeling](https://www.kaggle.com/barelydedicated/bank-customer-churn-modeling)"
   ]
  },
  {
   "cell_type": "markdown",
   "metadata": {},
   "source": [
    "Описание данных:  \n",
    "    **Признаки**\n",
    "    \n",
    "* RowNumber — индекс строки в данных\n",
    "* CustomerId — уникальный идентификатор клиента\n",
    "* Surname — фамилия\n",
    "* CreditScore — кредитный рейтинг\n",
    "* Geography — страна проживания\n",
    "* Gender — пол\n",
    "* Age — возраст\n",
    "* Tenure — количество недвижимости у клиента\n",
    "* Balance — баланс на счёте\n",
    "* NumOfProducts — количество продуктов банка, используемых клиентом\n",
    "* HasCrCard — наличие кредитной карты\n",
    "* IsActiveMember — активность клиента\n",
    "* EstimatedSalary — предполагаемая зарплата\n",
    "\n",
    "**Целевой признак**\n",
    "* Exited — факт ухода клиента"
   ]
  },
  {
   "cell_type": "code",
   "execution_count": 1,
   "metadata": {},
   "outputs": [],
   "source": [
    "# загрузим необходимые библиотеки:\n",
    "\n",
    "import pandas as pd\n",
    "import numpy as np\n",
    "import seaborn as sns\n",
    "\n",
    "from sklearn.model_selection import train_test_split\n",
    "from sklearn.preprocessing import StandardScaler\n",
    "from sklearn.utils import shuffle\n",
    "from sklearn.metrics import f1_score\n",
    "from sklearn.metrics import roc_auc_score\n",
    "from sklearn.dummy import DummyClassifier\n",
    "\n",
    "from sklearn.tree import DecisionTreeClassifier\n",
    "from sklearn.ensemble import RandomForestClassifier\n",
    "from sklearn.linear_model import LogisticRegression"
   ]
  },
  {
   "cell_type": "code",
   "execution_count": 2,
   "metadata": {},
   "outputs": [],
   "source": [
    "import warnings\n",
    "warnings.simplefilter(action='ignore', category=FutureWarning)"
   ]
  },
  {
   "cell_type": "markdown",
   "metadata": {},
   "source": [
    "# 1. Подготовка данных"
   ]
  },
  {
   "cell_type": "code",
   "execution_count": 3,
   "metadata": {},
   "outputs": [
    {
     "data": {
      "text/html": [
       "<div>\n",
       "<style scoped>\n",
       "    .dataframe tbody tr th:only-of-type {\n",
       "        vertical-align: middle;\n",
       "    }\n",
       "\n",
       "    .dataframe tbody tr th {\n",
       "        vertical-align: top;\n",
       "    }\n",
       "\n",
       "    .dataframe thead th {\n",
       "        text-align: right;\n",
       "    }\n",
       "</style>\n",
       "<table border=\"1\" class=\"dataframe\">\n",
       "  <thead>\n",
       "    <tr style=\"text-align: right;\">\n",
       "      <th></th>\n",
       "      <th>RowNumber</th>\n",
       "      <th>CustomerId</th>\n",
       "      <th>Surname</th>\n",
       "      <th>CreditScore</th>\n",
       "      <th>Geography</th>\n",
       "      <th>Gender</th>\n",
       "      <th>Age</th>\n",
       "      <th>Tenure</th>\n",
       "      <th>Balance</th>\n",
       "      <th>NumOfProducts</th>\n",
       "      <th>HasCrCard</th>\n",
       "      <th>IsActiveMember</th>\n",
       "      <th>EstimatedSalary</th>\n",
       "      <th>Exited</th>\n",
       "    </tr>\n",
       "  </thead>\n",
       "  <tbody>\n",
       "    <tr>\n",
       "      <td>0</td>\n",
       "      <td>1</td>\n",
       "      <td>15634602</td>\n",
       "      <td>Hargrave</td>\n",
       "      <td>619</td>\n",
       "      <td>France</td>\n",
       "      <td>Female</td>\n",
       "      <td>42</td>\n",
       "      <td>2.0</td>\n",
       "      <td>0.00</td>\n",
       "      <td>1</td>\n",
       "      <td>1</td>\n",
       "      <td>1</td>\n",
       "      <td>101348.88</td>\n",
       "      <td>1</td>\n",
       "    </tr>\n",
       "    <tr>\n",
       "      <td>1</td>\n",
       "      <td>2</td>\n",
       "      <td>15647311</td>\n",
       "      <td>Hill</td>\n",
       "      <td>608</td>\n",
       "      <td>Spain</td>\n",
       "      <td>Female</td>\n",
       "      <td>41</td>\n",
       "      <td>1.0</td>\n",
       "      <td>83807.86</td>\n",
       "      <td>1</td>\n",
       "      <td>0</td>\n",
       "      <td>1</td>\n",
       "      <td>112542.58</td>\n",
       "      <td>0</td>\n",
       "    </tr>\n",
       "    <tr>\n",
       "      <td>2</td>\n",
       "      <td>3</td>\n",
       "      <td>15619304</td>\n",
       "      <td>Onio</td>\n",
       "      <td>502</td>\n",
       "      <td>France</td>\n",
       "      <td>Female</td>\n",
       "      <td>42</td>\n",
       "      <td>8.0</td>\n",
       "      <td>159660.80</td>\n",
       "      <td>3</td>\n",
       "      <td>1</td>\n",
       "      <td>0</td>\n",
       "      <td>113931.57</td>\n",
       "      <td>1</td>\n",
       "    </tr>\n",
       "    <tr>\n",
       "      <td>3</td>\n",
       "      <td>4</td>\n",
       "      <td>15701354</td>\n",
       "      <td>Boni</td>\n",
       "      <td>699</td>\n",
       "      <td>France</td>\n",
       "      <td>Female</td>\n",
       "      <td>39</td>\n",
       "      <td>1.0</td>\n",
       "      <td>0.00</td>\n",
       "      <td>2</td>\n",
       "      <td>0</td>\n",
       "      <td>0</td>\n",
       "      <td>93826.63</td>\n",
       "      <td>0</td>\n",
       "    </tr>\n",
       "    <tr>\n",
       "      <td>4</td>\n",
       "      <td>5</td>\n",
       "      <td>15737888</td>\n",
       "      <td>Mitchell</td>\n",
       "      <td>850</td>\n",
       "      <td>Spain</td>\n",
       "      <td>Female</td>\n",
       "      <td>43</td>\n",
       "      <td>2.0</td>\n",
       "      <td>125510.82</td>\n",
       "      <td>1</td>\n",
       "      <td>1</td>\n",
       "      <td>1</td>\n",
       "      <td>79084.10</td>\n",
       "      <td>0</td>\n",
       "    </tr>\n",
       "  </tbody>\n",
       "</table>\n",
       "</div>"
      ],
      "text/plain": [
       "   RowNumber  CustomerId   Surname  CreditScore Geography  Gender  Age  \\\n",
       "0          1    15634602  Hargrave          619    France  Female   42   \n",
       "1          2    15647311      Hill          608     Spain  Female   41   \n",
       "2          3    15619304      Onio          502    France  Female   42   \n",
       "3          4    15701354      Boni          699    France  Female   39   \n",
       "4          5    15737888  Mitchell          850     Spain  Female   43   \n",
       "\n",
       "   Tenure    Balance  NumOfProducts  HasCrCard  IsActiveMember  \\\n",
       "0     2.0       0.00              1          1               1   \n",
       "1     1.0   83807.86              1          0               1   \n",
       "2     8.0  159660.80              3          1               0   \n",
       "3     1.0       0.00              2          0               0   \n",
       "4     2.0  125510.82              1          1               1   \n",
       "\n",
       "   EstimatedSalary  Exited  \n",
       "0        101348.88       1  \n",
       "1        112542.58       0  \n",
       "2        113931.57       1  \n",
       "3         93826.63       0  \n",
       "4         79084.10       0  "
      ]
     },
     "execution_count": 3,
     "metadata": {},
     "output_type": "execute_result"
    }
   ],
   "source": [
    "# загрузим датасет\n",
    "raw_data = pd.read_csv('/datasets/Churn.csv')\n",
    "raw_data.head()"
   ]
  },
  {
   "cell_type": "code",
   "execution_count": 4,
   "metadata": {},
   "outputs": [
    {
     "data": {
      "text/plain": [
       "15812607    1\n",
       "15741078    1\n",
       "15635776    1\n",
       "15740223    1\n",
       "15738174    1\n",
       "Name: CustomerId, dtype: int64"
      ]
     },
     "execution_count": 4,
     "metadata": {},
     "output_type": "execute_result"
    }
   ],
   "source": [
    "raw_data['CustomerId'].value_counts().head()"
   ]
  },
  {
   "cell_type": "code",
   "execution_count": 5,
   "metadata": {},
   "outputs": [
    {
     "data": {
      "text/html": [
       "<div>\n",
       "<style scoped>\n",
       "    .dataframe tbody tr th:only-of-type {\n",
       "        vertical-align: middle;\n",
       "    }\n",
       "\n",
       "    .dataframe tbody tr th {\n",
       "        vertical-align: top;\n",
       "    }\n",
       "\n",
       "    .dataframe thead th {\n",
       "        text-align: right;\n",
       "    }\n",
       "</style>\n",
       "<table border=\"1\" class=\"dataframe\">\n",
       "  <thead>\n",
       "    <tr style=\"text-align: right;\">\n",
       "      <th></th>\n",
       "      <th>CreditScore</th>\n",
       "      <th>Geography</th>\n",
       "      <th>Gender</th>\n",
       "      <th>Age</th>\n",
       "      <th>Tenure</th>\n",
       "      <th>Balance</th>\n",
       "      <th>NumOfProducts</th>\n",
       "      <th>HasCrCard</th>\n",
       "      <th>IsActiveMember</th>\n",
       "      <th>EstimatedSalary</th>\n",
       "      <th>Exited</th>\n",
       "    </tr>\n",
       "    <tr>\n",
       "      <th>CustomerId</th>\n",
       "      <th></th>\n",
       "      <th></th>\n",
       "      <th></th>\n",
       "      <th></th>\n",
       "      <th></th>\n",
       "      <th></th>\n",
       "      <th></th>\n",
       "      <th></th>\n",
       "      <th></th>\n",
       "      <th></th>\n",
       "      <th></th>\n",
       "    </tr>\n",
       "  </thead>\n",
       "  <tbody>\n",
       "    <tr>\n",
       "      <td>15634602</td>\n",
       "      <td>619</td>\n",
       "      <td>France</td>\n",
       "      <td>Female</td>\n",
       "      <td>42</td>\n",
       "      <td>2.0</td>\n",
       "      <td>0.00</td>\n",
       "      <td>1</td>\n",
       "      <td>1</td>\n",
       "      <td>1</td>\n",
       "      <td>101348.88</td>\n",
       "      <td>1</td>\n",
       "    </tr>\n",
       "    <tr>\n",
       "      <td>15647311</td>\n",
       "      <td>608</td>\n",
       "      <td>Spain</td>\n",
       "      <td>Female</td>\n",
       "      <td>41</td>\n",
       "      <td>1.0</td>\n",
       "      <td>83807.86</td>\n",
       "      <td>1</td>\n",
       "      <td>0</td>\n",
       "      <td>1</td>\n",
       "      <td>112542.58</td>\n",
       "      <td>0</td>\n",
       "    </tr>\n",
       "    <tr>\n",
       "      <td>15619304</td>\n",
       "      <td>502</td>\n",
       "      <td>France</td>\n",
       "      <td>Female</td>\n",
       "      <td>42</td>\n",
       "      <td>8.0</td>\n",
       "      <td>159660.80</td>\n",
       "      <td>3</td>\n",
       "      <td>1</td>\n",
       "      <td>0</td>\n",
       "      <td>113931.57</td>\n",
       "      <td>1</td>\n",
       "    </tr>\n",
       "    <tr>\n",
       "      <td>15701354</td>\n",
       "      <td>699</td>\n",
       "      <td>France</td>\n",
       "      <td>Female</td>\n",
       "      <td>39</td>\n",
       "      <td>1.0</td>\n",
       "      <td>0.00</td>\n",
       "      <td>2</td>\n",
       "      <td>0</td>\n",
       "      <td>0</td>\n",
       "      <td>93826.63</td>\n",
       "      <td>0</td>\n",
       "    </tr>\n",
       "    <tr>\n",
       "      <td>15737888</td>\n",
       "      <td>850</td>\n",
       "      <td>Spain</td>\n",
       "      <td>Female</td>\n",
       "      <td>43</td>\n",
       "      <td>2.0</td>\n",
       "      <td>125510.82</td>\n",
       "      <td>1</td>\n",
       "      <td>1</td>\n",
       "      <td>1</td>\n",
       "      <td>79084.10</td>\n",
       "      <td>0</td>\n",
       "    </tr>\n",
       "  </tbody>\n",
       "</table>\n",
       "</div>"
      ],
      "text/plain": [
       "            CreditScore Geography  Gender  Age  Tenure    Balance  \\\n",
       "CustomerId                                                          \n",
       "15634602            619    France  Female   42     2.0       0.00   \n",
       "15647311            608     Spain  Female   41     1.0   83807.86   \n",
       "15619304            502    France  Female   42     8.0  159660.80   \n",
       "15701354            699    France  Female   39     1.0       0.00   \n",
       "15737888            850     Spain  Female   43     2.0  125510.82   \n",
       "\n",
       "            NumOfProducts  HasCrCard  IsActiveMember  EstimatedSalary  Exited  \n",
       "CustomerId                                                                     \n",
       "15634602                1          1               1        101348.88       1  \n",
       "15647311                1          0               1        112542.58       0  \n",
       "15619304                3          1               0        113931.57       1  \n",
       "15701354                2          0               0         93826.63       0  \n",
       "15737888                1          1               1         79084.10       0  "
      ]
     },
     "execution_count": 5,
     "metadata": {},
     "output_type": "execute_result"
    }
   ],
   "source": [
    "# признаки RowNumber и Surname не принесут пользу при обучении модели,от них можно избавиться. Поле CustomerId сделаем индексным\n",
    "\n",
    "raw_data.drop(['RowNumber', 'Surname'], axis=1, inplace=True)\n",
    "raw_data.set_index('CustomerId', inplace=True)\n",
    "raw_data.head()"
   ]
  },
  {
   "cell_type": "code",
   "execution_count": 6,
   "metadata": {},
   "outputs": [
    {
     "name": "stdout",
     "output_type": "stream",
     "text": [
      "<class 'pandas.core.frame.DataFrame'>\n",
      "Int64Index: 10000 entries, 15634602 to 15628319\n",
      "Data columns (total 11 columns):\n",
      "CreditScore        10000 non-null int64\n",
      "Geography          10000 non-null object\n",
      "Gender             10000 non-null object\n",
      "Age                10000 non-null int64\n",
      "Tenure             9091 non-null float64\n",
      "Balance            10000 non-null float64\n",
      "NumOfProducts      10000 non-null int64\n",
      "HasCrCard          10000 non-null int64\n",
      "IsActiveMember     10000 non-null int64\n",
      "EstimatedSalary    10000 non-null float64\n",
      "Exited             10000 non-null int64\n",
      "dtypes: float64(3), int64(6), object(2)\n",
      "memory usage: 937.5+ KB\n"
     ]
    }
   ],
   "source": [
    "raw_data.info()"
   ]
  },
  {
   "cell_type": "code",
   "execution_count": 7,
   "metadata": {},
   "outputs": [
    {
     "data": {
      "text/plain": [
       "count    9091.000000\n",
       "mean        4.997690\n",
       "std         2.894723\n",
       "min         0.000000\n",
       "25%         2.000000\n",
       "50%         5.000000\n",
       "75%         7.000000\n",
       "max        10.000000\n",
       "Name: Tenure, dtype: float64"
      ]
     },
     "execution_count": 7,
     "metadata": {},
     "output_type": "execute_result"
    }
   ],
   "source": [
    "# признак Tenure имеет nan значения. При этом вычитал на Stackowerflow, что fillna \n",
    "# нужно делать после разбивки на обучающую и тестовую выборки. Поэтому вернёмся к вопросу позже\n",
    "raw_data['Tenure'].describe()"
   ]
  },
  {
   "cell_type": "code",
   "execution_count": 8,
   "metadata": {},
   "outputs": [
    {
     "data": {
      "image/png": "[encoded data removed]",
      "text/plain": [
       "<Figure size 432x288 with 2 Axes>"
      ]
     },
     "metadata": {
      "needs_background": "light"
     },
     "output_type": "display_data"
    }
   ],
   "source": [
    "# оценим мультиколинеарность признаков:\n",
    "corr = raw_data.corr()\n",
    "\n",
    "# построим тепловую карту\n",
    "sns.heatmap(corr, xticklabels=corr.columns,\n",
    "            yticklabels=corr.columns);"
   ]
  },
  {
   "cell_type": "code",
   "execution_count": 9,
   "metadata": {},
   "outputs": [
    {
     "data": {
      "text/html": [
       "<div>\n",
       "<style scoped>\n",
       "    .dataframe tbody tr th:only-of-type {\n",
       "        vertical-align: middle;\n",
       "    }\n",
       "\n",
       "    .dataframe tbody tr th {\n",
       "        vertical-align: top;\n",
       "    }\n",
       "\n",
       "    .dataframe thead th {\n",
       "        text-align: right;\n",
       "    }\n",
       "</style>\n",
       "<table border=\"1\" class=\"dataframe\">\n",
       "  <thead>\n",
       "    <tr style=\"text-align: right;\">\n",
       "      <th></th>\n",
       "      <th>CreditScore</th>\n",
       "      <th>Age</th>\n",
       "      <th>Tenure</th>\n",
       "      <th>Balance</th>\n",
       "      <th>NumOfProducts</th>\n",
       "      <th>HasCrCard</th>\n",
       "      <th>IsActiveMember</th>\n",
       "      <th>EstimatedSalary</th>\n",
       "      <th>Exited</th>\n",
       "    </tr>\n",
       "  </thead>\n",
       "  <tbody>\n",
       "    <tr>\n",
       "      <td>CreditScore</td>\n",
       "      <td>1.000000</td>\n",
       "      <td>-0.003965</td>\n",
       "      <td>-0.000062</td>\n",
       "      <td>0.006268</td>\n",
       "      <td>0.012238</td>\n",
       "      <td>-0.005458</td>\n",
       "      <td>0.025651</td>\n",
       "      <td>-0.001384</td>\n",
       "      <td>-0.027094</td>\n",
       "    </tr>\n",
       "    <tr>\n",
       "      <td>Age</td>\n",
       "      <td>-0.003965</td>\n",
       "      <td>1.000000</td>\n",
       "      <td>-0.013134</td>\n",
       "      <td>0.028308</td>\n",
       "      <td>-0.030680</td>\n",
       "      <td>-0.011721</td>\n",
       "      <td>0.085472</td>\n",
       "      <td>-0.007201</td>\n",
       "      <td>0.285323</td>\n",
       "    </tr>\n",
       "    <tr>\n",
       "      <td>Tenure</td>\n",
       "      <td>-0.000062</td>\n",
       "      <td>-0.013134</td>\n",
       "      <td>1.000000</td>\n",
       "      <td>-0.007911</td>\n",
       "      <td>0.011979</td>\n",
       "      <td>0.027232</td>\n",
       "      <td>-0.032178</td>\n",
       "      <td>0.010520</td>\n",
       "      <td>-0.016761</td>\n",
       "    </tr>\n",
       "    <tr>\n",
       "      <td>Balance</td>\n",
       "      <td>0.006268</td>\n",
       "      <td>0.028308</td>\n",
       "      <td>-0.007911</td>\n",
       "      <td>1.000000</td>\n",
       "      <td>-0.304180</td>\n",
       "      <td>-0.014858</td>\n",
       "      <td>-0.010084</td>\n",
       "      <td>0.012797</td>\n",
       "      <td>0.118533</td>\n",
       "    </tr>\n",
       "    <tr>\n",
       "      <td>NumOfProducts</td>\n",
       "      <td>0.012238</td>\n",
       "      <td>-0.030680</td>\n",
       "      <td>0.011979</td>\n",
       "      <td>-0.304180</td>\n",
       "      <td>1.000000</td>\n",
       "      <td>0.003183</td>\n",
       "      <td>0.009612</td>\n",
       "      <td>0.014204</td>\n",
       "      <td>-0.047820</td>\n",
       "    </tr>\n",
       "    <tr>\n",
       "      <td>HasCrCard</td>\n",
       "      <td>-0.005458</td>\n",
       "      <td>-0.011721</td>\n",
       "      <td>0.027232</td>\n",
       "      <td>-0.014858</td>\n",
       "      <td>0.003183</td>\n",
       "      <td>1.000000</td>\n",
       "      <td>-0.011866</td>\n",
       "      <td>-0.009933</td>\n",
       "      <td>-0.007138</td>\n",
       "    </tr>\n",
       "    <tr>\n",
       "      <td>IsActiveMember</td>\n",
       "      <td>0.025651</td>\n",
       "      <td>0.085472</td>\n",
       "      <td>-0.032178</td>\n",
       "      <td>-0.010084</td>\n",
       "      <td>0.009612</td>\n",
       "      <td>-0.011866</td>\n",
       "      <td>1.000000</td>\n",
       "      <td>-0.011421</td>\n",
       "      <td>-0.156128</td>\n",
       "    </tr>\n",
       "    <tr>\n",
       "      <td>EstimatedSalary</td>\n",
       "      <td>-0.001384</td>\n",
       "      <td>-0.007201</td>\n",
       "      <td>0.010520</td>\n",
       "      <td>0.012797</td>\n",
       "      <td>0.014204</td>\n",
       "      <td>-0.009933</td>\n",
       "      <td>-0.011421</td>\n",
       "      <td>1.000000</td>\n",
       "      <td>0.012097</td>\n",
       "    </tr>\n",
       "    <tr>\n",
       "      <td>Exited</td>\n",
       "      <td>-0.027094</td>\n",
       "      <td>0.285323</td>\n",
       "      <td>-0.016761</td>\n",
       "      <td>0.118533</td>\n",
       "      <td>-0.047820</td>\n",
       "      <td>-0.007138</td>\n",
       "      <td>-0.156128</td>\n",
       "      <td>0.012097</td>\n",
       "      <td>1.000000</td>\n",
       "    </tr>\n",
       "  </tbody>\n",
       "</table>\n",
       "</div>"
      ],
      "text/plain": [
       "                 CreditScore       Age    Tenure   Balance  NumOfProducts  \\\n",
       "CreditScore         1.000000 -0.003965 -0.000062  0.006268       0.012238   \n",
       "Age                -0.003965  1.000000 -0.013134  0.028308      -0.030680   \n",
       "Tenure             -0.000062 -0.013134  1.000000 -0.007911       0.011979   \n",
       "Balance             0.006268  0.028308 -0.007911  1.000000      -0.304180   \n",
       "NumOfProducts       0.012238 -0.030680  0.011979 -0.304180       1.000000   \n",
       "HasCrCard          -0.005458 -0.011721  0.027232 -0.014858       0.003183   \n",
       "IsActiveMember      0.025651  0.085472 -0.032178 -0.010084       0.009612   \n",
       "EstimatedSalary    -0.001384 -0.007201  0.010520  0.012797       0.014204   \n",
       "Exited             -0.027094  0.285323 -0.016761  0.118533      -0.047820   \n",
       "\n",
       "                 HasCrCard  IsActiveMember  EstimatedSalary    Exited  \n",
       "CreditScore      -0.005458        0.025651        -0.001384 -0.027094  \n",
       "Age              -0.011721        0.085472        -0.007201  0.285323  \n",
       "Tenure            0.027232       -0.032178         0.010520 -0.016761  \n",
       "Balance          -0.014858       -0.010084         0.012797  0.118533  \n",
       "NumOfProducts     0.003183        0.009612         0.014204 -0.047820  \n",
       "HasCrCard         1.000000       -0.011866        -0.009933 -0.007138  \n",
       "IsActiveMember   -0.011866        1.000000        -0.011421 -0.156128  \n",
       "EstimatedSalary  -0.009933       -0.011421         1.000000  0.012097  \n",
       "Exited           -0.007138       -0.156128         0.012097  1.000000  "
      ]
     },
     "execution_count": 9,
     "metadata": {},
     "output_type": "execute_result"
    }
   ],
   "source": [
    "corr"
   ]
  },
  {
   "cell_type": "markdown",
   "metadata": {},
   "source": [
    "**Похоже существенная корреляция между признаками отсутствует, избавляться от мультиколинеарности не нужно**"
   ]
  },
  {
   "cell_type": "code",
   "execution_count": 10,
   "metadata": {},
   "outputs": [],
   "source": [
    "# закодируем категориальные признаки методом OHE\n",
    "\n",
    "ohe_data = pd.get_dummies(raw_data, drop_first=True)"
   ]
  },
  {
   "cell_type": "code",
   "execution_count": 11,
   "metadata": {},
   "outputs": [],
   "source": [
    "#разделим набор данных на обучающую, валидационную и тестовую выборки\n",
    "\n",
    "df_x, df_test = train_test_split(ohe_data, test_size=0.2, random_state=12345)\n",
    "df_train, df_valid = train_test_split(df_x, test_size=0.25, random_state=12345)\n",
    "\n",
    "features_train = df_train.drop(columns='Exited')\n",
    "target_train = df_train['Exited']\n",
    "\n",
    "features_valid = df_valid.drop(columns='Exited')\n",
    "target_valid = df_valid['Exited']\n",
    "\n",
    "features_test = df_test.drop(columns='Exited')\n",
    "target_test = df_test['Exited']"
   ]
  },
  {
   "cell_type": "code",
   "execution_count": 12,
   "metadata": {},
   "outputs": [
    {
     "name": "stdout",
     "output_type": "stream",
     "text": [
      "570\n",
      "173\n",
      "166\n"
     ]
    }
   ],
   "source": [
    "print(features_train['Tenure'].isna().sum())\n",
    "print(features_valid['Tenure'].isna().sum())\n",
    "print(features_test['Tenure'].isna().sum())"
   ]
  },
  {
   "cell_type": "code",
   "execution_count": 13,
   "metadata": {},
   "outputs": [],
   "source": [
    "# заполним отсутстствующие данные по параметру Tenure медианой\n",
    "features_train.fillna(features_train['Tenure'].median(), inplace=True)\n",
    "features_valid.fillna(features_valid['Tenure'].median(), inplace=True)\n",
    "features_test.fillna(features_test['Tenure'].median(), inplace=True)"
   ]
  },
  {
   "cell_type": "markdown",
   "metadata": {},
   "source": [
    "# 2. Исследование задачи"
   ]
  },
  {
   "cell_type": "code",
   "execution_count": 14,
   "metadata": {},
   "outputs": [
    {
     "data": {
      "text/plain": [
       "0    0.7963\n",
       "1    0.2037\n",
       "Name: Exited, dtype: float64"
      ]
     },
     "execution_count": 14,
     "metadata": {},
     "output_type": "execute_result"
    }
   ],
   "source": [
    "#посмотрим, как распределены классы в данных:\n",
    "raw_data['Exited'].value_counts(normalize=True)"
   ]
  },
  {
   "cell_type": "markdown",
   "metadata": {},
   "source": [
    "**в целевом признаке присутствует дисбаланс**"
   ]
  },
  {
   "cell_type": "code",
   "execution_count": 15,
   "metadata": {},
   "outputs": [
    {
     "name": "stderr",
     "output_type": "stream",
     "text": [
      "/opt/conda/lib/python3.7/site-packages/sklearn/metrics/classification.py:1437: UndefinedMetricWarning: F-score is ill-defined and being set to 0.0 due to no predicted samples.\n",
      "  'precision', 'predicted', average, warn_for)\n"
     ]
    },
    {
     "name": "stdout",
     "output_type": "stream",
     "text": [
      "Метрика f1 наилучшей модели деревьев решений на валидационной выборке без балансирови: 0.5584\n",
      "Значение метрики AUC-ROC лучшей модели: 0.8231\n",
      "Значение depth = 7\n",
      "CPU times: user 230 ms, sys: 3.07 ms, total: 234 ms\n",
      "Wall time: 242 ms\n"
     ]
    }
   ],
   "source": [
    "%%time\n",
    "# начнём с дерева решений, меняя гиперпараметр max_depth в диапазоне от 1 до 10\n",
    "\n",
    "best_depth, best_result  = 0, 0\n",
    "for depth in range(1,11,1):\n",
    "    model = DecisionTreeClassifier(max_depth=depth, random_state=12345)\n",
    "    model.fit(features_train, target_train)\n",
    "    prediction = model.predict(features_valid)\n",
    "    result = f1_score(target_valid, prediction)\n",
    "    if result > best_result:\n",
    "        dtc_model = model\n",
    "        best_result = result\n",
    "        best_depth = depth\n",
    "\n",
    "prediction = dtc_model.predict(features_valid)\n",
    "prediction_proba = dtc_model.predict_proba(features_valid)[:,1]\n",
    "auc_roc = roc_auc_score(target_valid, prediction_proba)\n",
    "print(\"Метрика f1 наилучшей модели деревьев решений на валидационной выборке без балансирови:\", best_result.round(4))\n",
    "print('Значение метрики AUC-ROC лучшей модели:', auc_roc.round(4))\n",
    "print(f\"Значение depth = {best_depth}\")\n"
   ]
  },
  {
   "cell_type": "code",
   "execution_count": 16,
   "metadata": {},
   "outputs": [
    {
     "name": "stdout",
     "output_type": "stream",
     "text": [
      "F1 модели модели логистической регрессии на валидационной выборке без балансировки: 0.1029\n",
      "Значение метрики AUC-ROC лучшей модели: 0.6814\n",
      "CPU times: user 73.4 ms, sys: 21.6 ms, total: 95 ms\n",
      "Wall time: 95.6 ms\n"
     ]
    }
   ],
   "source": [
    "%%time\n",
    "# посмотрим на результаты модели логистической регрессии\n",
    "\n",
    "lr_model = LogisticRegression(random_state=12345)\n",
    "lr_model.fit(features_train, target_train)\n",
    "prediction = lr_model.predict(features_valid)\n",
    "prediction_proba = lr_model.predict_proba(features_valid)[:,1]\n",
    "result = f1_score(target_valid, prediction)\n",
    "auc_roc = roc_auc_score(target_valid, prediction_proba)\n",
    "\n",
    "print(\"F1 модели модели логистической регрессии на валидационной выборке без балансировки:\", result.round(4))\n",
    "print('Значение метрики AUC-ROC лучшей модели:', auc_roc.round(4))"
   ]
  },
  {
   "cell_type": "code",
   "execution_count": 17,
   "metadata": {},
   "outputs": [
    {
     "name": "stderr",
     "output_type": "stream",
     "text": [
      "/opt/conda/lib/python3.7/site-packages/sklearn/metrics/classification.py:1437: UndefinedMetricWarning: F-score is ill-defined and being set to 0.0 due to no predicted samples.\n",
      "  'precision', 'predicted', average, warn_for)\n"
     ]
    },
    {
     "name": "stdout",
     "output_type": "stream",
     "text": [
      "Значение depth = 14, значение метрики f1 = 0.5543\n",
      "CPU times: user 1.65 s, sys: 5.08 ms, total: 1.66 s\n",
      "Wall time: 1.67 s\n"
     ]
    }
   ],
   "source": [
    "%%time\n",
    "# закончим случайным лесом. Сначала подберем гиперпараметр max_depth в диапазоне от 1 до 20\n",
    "\n",
    "best_depth, best_result  = 0, 0\n",
    "for depth in range(1,21,1):\n",
    "    model = RandomForestClassifier(max_depth=depth, random_state=12345)\n",
    "    model.fit(features_train, target_train)\n",
    "    prediction = model.predict(features_valid)\n",
    "    result = f1_score(target_valid, prediction)\n",
    "    if result > best_result:\n",
    "        rfc_model = model\n",
    "        best_result = result\n",
    "        best_depth = depth\n",
    "\n",
    "print(f\"Значение depth = {best_depth}, значение метрики f1 = {best_result.round(4)}\")"
   ]
  },
  {
   "cell_type": "code",
   "execution_count": 18,
   "metadata": {},
   "outputs": [
    {
     "name": "stdout",
     "output_type": "stream",
     "text": [
      "Значение n_estimators = 90, значение метрики f1 = 0.5774\n",
      "Значение метрики AUC-ROC лучшей модели: 0.838\n",
      "CPU times: user 4.34 s, sys: 25.3 ms, total: 4.36 s\n",
      "Wall time: 4.48 s\n"
     ]
    }
   ],
   "source": [
    "%%time\n",
    "# продолжим подбором параметра n_estimator\n",
    "\n",
    "best_depth, best_result  = 0, 0\n",
    "for estimators in range(10,100,10):\n",
    "    model = RandomForestClassifier(n_estimators=estimators,max_depth=14, random_state=12345)\n",
    "    model.fit(features_train, target_train)\n",
    "    prediction = model.predict(features_valid)\n",
    "    result = f1_score(target_valid, prediction)\n",
    "    if result > best_result:\n",
    "        rfc_model = model\n",
    "        best_result = result\n",
    "        best_depth = depth\n",
    "\n",
    "prediction = rfc_model.predict(features_valid)\n",
    "prediction_proba = rfc_model.predict_proba(features_valid)[:,1]\n",
    "auc_roc = roc_auc_score(target_valid, prediction_proba)\n",
    "\n",
    "print(f\"Значение n_estimators = {estimators}, значение метрики f1 = {best_result.round(4)}\")\n",
    "print('Значение метрики AUC-ROC лучшей модели:', auc_roc.round(4))"
   ]
  },
  {
   "cell_type": "markdown",
   "metadata": {},
   "source": [
    "**По итогу первого применения моделей наилучший результат по метрике f1 у случайного леса, наихудший у модели логистической регрессии (0,10), при этом метрика auc_roc для логистической регрессии составила 0.68, что лучше чем значение 0.5 для \"случайной модели\"**"
   ]
  },
  {
   "cell_type": "code",
   "execution_count": 19,
   "metadata": {},
   "outputs": [],
   "source": [
    "# стандартизируеем числовые признаки функцией StandardScaler и проверим, как это отразится на качестве предсказания\n",
    "\n",
    "numeric = ['CreditScore', 'Age', 'Tenure', 'Balance', 'NumOfProducts', 'HasCrCard', 'IsActiveMember', 'EstimatedSalary']\n",
    "\n",
    "scaler = StandardScaler()\n",
    "scaler.fit(features_train[numeric])\n",
    "\n",
    "features_train[numeric] = scaler.transform(features_train[numeric])\n",
    "features_valid[numeric] = scaler.transform(features_valid[numeric])\n",
    "features_test[numeric] = scaler.transform(features_test[numeric])"
   ]
  },
  {
   "cell_type": "code",
   "execution_count": 20,
   "metadata": {},
   "outputs": [
    {
     "name": "stderr",
     "output_type": "stream",
     "text": [
      "/opt/conda/lib/python3.7/site-packages/sklearn/metrics/classification.py:1437: UndefinedMetricWarning: F-score is ill-defined and being set to 0.0 due to no predicted samples.\n",
      "  'precision', 'predicted', average, warn_for)\n"
     ]
    },
    {
     "name": "stdout",
     "output_type": "stream",
     "text": [
      "Метрика f1 наилучшей модели деревьев решений на валидационной выборке без балансирови: 0.5584\n",
      "Значение метрики AUC-ROC лучшей модели: 0.8231\n",
      "Значение depth = 7\n",
      "CPU times: user 229 ms, sys: 0 ns, total: 229 ms\n",
      "Wall time: 234 ms\n"
     ]
    }
   ],
   "source": [
    "%%time\n",
    "# начнём с дерева решений, меняя гиперпараметр max_depth в диапазоне от 1 до 10\n",
    "\n",
    "best_depth, best_result  = 0, 0\n",
    "for depth in range(1,11,1):\n",
    "    model = DecisionTreeClassifier(max_depth=depth, random_state=12345)\n",
    "    model.fit(features_train, target_train)\n",
    "    prediction = model.predict(features_valid)\n",
    "    result = f1_score(target_valid, prediction)\n",
    "    if result > best_result:\n",
    "        dtc_model = model\n",
    "        best_result = result\n",
    "        best_depth = depth\n",
    "\n",
    "prediction = dtc_model.predict(features_valid)\n",
    "prediction_proba = dtc_model.predict_proba(features_valid)[:,1]\n",
    "auc_roc = roc_auc_score(target_valid, prediction_proba)\n",
    "print(\"Метрика f1 наилучшей модели деревьев решений на валидационной выборке без балансирови:\", best_result.round(4))\n",
    "print('Значение метрики AUC-ROC лучшей модели:', auc_roc.round(4))\n",
    "print(f\"Значение depth = {best_depth}\")"
   ]
  },
  {
   "cell_type": "code",
   "execution_count": 21,
   "metadata": {},
   "outputs": [
    {
     "name": "stdout",
     "output_type": "stream",
     "text": [
      "F1 модели модели логистической регрессии на валидационной выборке без балансировки: 0.3013\n",
      "Значение метрики AUC-ROC лучшей модели: 0.7703\n",
      "CPU times: user 59.4 ms, sys: 39.5 ms, total: 98.9 ms\n",
      "Wall time: 48 ms\n"
     ]
    }
   ],
   "source": [
    "%%time\n",
    "# посмотрим на результаты модели логистической регрессии\n",
    "\n",
    "lr_model = LogisticRegression(random_state=12345)\n",
    "lr_model.fit(features_train, target_train)\n",
    "prediction = lr_model.predict(features_valid)\n",
    "prediction_proba = lr_model.predict_proba(features_valid)[:,1]\n",
    "result = f1_score(target_valid, prediction)\n",
    "auc_roc = roc_auc_score(target_valid, prediction_proba)\n",
    "\n",
    "print(\"F1 модели модели логистической регрессии на валидационной выборке без балансировки:\", result.round(4))\n",
    "print('Значение метрики AUC-ROC лучшей модели:', auc_roc.round(4))"
   ]
  },
  {
   "cell_type": "code",
   "execution_count": 22,
   "metadata": {},
   "outputs": [
    {
     "name": "stdout",
     "output_type": "stream",
     "text": [
      "Значение n_estimators = 90, значение метрики f1 = 0.5805\n",
      "Значение метрики AUC-ROC лучшей модели: 0.8379\n",
      "CPU times: user 4.36 s, sys: 6.84 ms, total: 4.37 s\n",
      "Wall time: 4.38 s\n"
     ]
    }
   ],
   "source": [
    "%%time\n",
    "# закончим моделью случайного леса\n",
    "\n",
    "best_depth, best_result  = 0, 0\n",
    "for estimators in range(10,100,10):\n",
    "    model = RandomForestClassifier(n_estimators=estimators,max_depth=14, random_state=12345)\n",
    "    model.fit(features_train, target_train)\n",
    "    prediction = model.predict(features_valid)\n",
    "    result = f1_score(target_valid, prediction)\n",
    "    if result > best_result:\n",
    "        rfc_model = model\n",
    "        best_result = result\n",
    "        best_depth = depth\n",
    "\n",
    "prediction = rfc_model.predict(features_valid)\n",
    "prediction_proba = rfc_model.predict_proba(features_valid)[:,1]\n",
    "auc_roc = roc_auc_score(target_valid, prediction_proba)\n",
    "\n",
    "print(f\"Значение n_estimators = {estimators}, значение метрики f1 = {best_result.round(4)}\")\n",
    "print('Значение метрики AUC-ROC лучшей модели:', auc_roc.round(4))"
   ]
  },
  {
   "cell_type": "markdown",
   "metadata": {},
   "source": [
    "**стандартизация никак не отразилась на модели дерева решений, немного улучшила модель случайного леса и в 3 раза улучшила метрику f1 для модели логистической регрессии**"
   ]
  },
  {
   "cell_type": "markdown",
   "metadata": {},
   "source": [
    "# 3. Борьба с дисбалансом"
   ]
  },
  {
   "cell_type": "code",
   "execution_count": 23,
   "metadata": {},
   "outputs": [],
   "source": [
    "# для борьбы с дисбалансом можно попробовать 3 варианта: учёт баланса в параметриах модели, upsampling и downsampling"
   ]
  },
  {
   "cell_type": "code",
   "execution_count": 24,
   "metadata": {},
   "outputs": [
    {
     "name": "stdout",
     "output_type": "stream",
     "text": [
      "Метрика f1 наилучшей модели деревьев решений на валидационной выборке с учётом балансирови через аргумент class_weight: 0.5587\n",
      "Значение метрики AUC-ROC лучшей модели: 0.8091\n",
      "Значение depth = 6\n",
      "CPU times: user 242 ms, sys: 26 µs, total: 242 ms\n",
      "Wall time: 247 ms\n"
     ]
    }
   ],
   "source": [
    "%%time\n",
    "# начнём с дерева решений\n",
    "\n",
    "best_depth, best_result  = 0, 0\n",
    "for depth in range(1,11,1):\n",
    "    model = DecisionTreeClassifier(max_depth=depth, random_state=12345, class_weight='balanced')\n",
    "    model.fit(features_train, target_train)\n",
    "    prediction = model.predict(features_valid)\n",
    "    result = f1_score(target_valid, prediction)\n",
    "    if result > best_result:\n",
    "        dtc_model = model\n",
    "        best_result = result\n",
    "        best_depth = depth\n",
    "\n",
    "prediction = dtc_model.predict(features_valid)\n",
    "prediction_proba = dtc_model.predict_proba(features_valid)[:,1]\n",
    "auc_roc = roc_auc_score(target_valid, prediction_proba)\n",
    "print(\"Метрика f1 наилучшей модели деревьев решений на валидационной выборке с учётом балансирови через аргумент class_weight:\", best_result.round(4))\n",
    "print('Значение метрики AUC-ROC лучшей модели:', auc_roc.round(4))\n",
    "print(f\"Значение depth = {best_depth}\")"
   ]
  },
  {
   "cell_type": "code",
   "execution_count": 25,
   "metadata": {},
   "outputs": [
    {
     "name": "stdout",
     "output_type": "stream",
     "text": [
      "F1 модели модели логистической регрессии на валидационной выборке с учётом балансировки через аргумент class_weight: 0.4751\n",
      "Значение метрики AUC-ROC лучшей модели: 0.7726\n",
      "CPU times: user 114 ms, sys: 33.7 ms, total: 148 ms\n",
      "Wall time: 142 ms\n"
     ]
    }
   ],
   "source": [
    "%%time\n",
    "# посмотрим на результаты модели логистической регрессии\n",
    "\n",
    "lr_model = LogisticRegression(random_state=12345, class_weight='balanced')\n",
    "lr_model.fit(features_train, target_train)\n",
    "prediction = lr_model.predict(features_valid)\n",
    "prediction_proba = lr_model.predict_proba(features_valid)[:,1]\n",
    "result = f1_score(target_valid, prediction)\n",
    "auc_roc = roc_auc_score(target_valid, prediction_proba)\n",
    "\n",
    "print(\"F1 модели модели логистической регрессии на валидационной выборке с учётом балансировки через аргумент class_weight:\", result.round(4))\n",
    "print('Значение метрики AUC-ROC лучшей модели:', auc_roc.round(4))"
   ]
  },
  {
   "cell_type": "code",
   "execution_count": 26,
   "metadata": {},
   "outputs": [
    {
     "name": "stdout",
     "output_type": "stream",
     "text": [
      "Показатели с учётом балансировки через аргумент class_weight:\n",
      "Значение n_estimators = 90, значение метрики f1 = 0.5816\n",
      "Значение метрики AUC-ROC лучшей модели: 0.8443\n",
      "CPU times: user 4.29 s, sys: 2.84 ms, total: 4.3 s\n",
      "Wall time: 4.41 s\n"
     ]
    }
   ],
   "source": [
    "%%time\n",
    "# закончим моделью случайного леса\n",
    "\n",
    "best_depth, best_result  = 0, 0\n",
    "for estimators in range(10,100,10):\n",
    "    model = RandomForestClassifier(n_estimators=estimators,max_depth=14, random_state=12345, class_weight='balanced')\n",
    "    model.fit(features_train, target_train)\n",
    "    prediction = model.predict(features_valid)\n",
    "    result = f1_score(target_valid, prediction)\n",
    "    if result > best_result:\n",
    "        rfc_model = model\n",
    "        best_result = result\n",
    "        best_depth = depth\n",
    "\n",
    "prediction = rfc_model.predict(features_valid)\n",
    "prediction_proba = rfc_model.predict_proba(features_valid)[:,1]\n",
    "auc_roc = roc_auc_score(target_valid, prediction_proba)\n",
    "\n",
    "print('Показатели с учётом балансировки через аргумент class_weight:')\n",
    "print(f\"Значение n_estimators = {estimators}, значение метрики f1 = {best_result.round(4)}\")\n",
    "print('Значение метрики AUC-ROC лучшей модели:', auc_roc.round(4))"
   ]
  },
  {
   "cell_type": "markdown",
   "metadata": {},
   "source": [
    "**Все модели показали небольшое улучшение по метрике f1, наибольшее улучшение показала модель логистической регрессии, при этом  AUC-ROC для дерева решений снизилась в сравнении с показателем без балансировки. Возможно это связано с тем, что данные изначально были разбалансированы**"
   ]
  },
  {
   "cell_type": "code",
   "execution_count": 27,
   "metadata": {},
   "outputs": [],
   "source": [
    "# следующий метод - увеличение выборки"
   ]
  },
  {
   "cell_type": "code",
   "execution_count": 28,
   "metadata": {},
   "outputs": [],
   "source": [
    "#подготовим функцию для увеличения событий с целевым признаком:\n",
    "    \n",
    "def upsample(features, target, repeat):\n",
    "    features_zeros = features[target == 0]\n",
    "    features_ones = features[target == 1]\n",
    "    target_zeros = target[target == 0]\n",
    "    target_ones = target[target == 1]\n",
    "\n",
    "    features_upsampled = pd.concat([features_zeros] + [features_ones] * repeat)\n",
    "    target_upsampled = pd.concat([target_zeros] + [target_ones] * repeat)\n",
    "    \n",
    "    features_upsampled, target_upsampled = shuffle(\n",
    "        features_upsampled, target_upsampled, random_state=12345)\n",
    "    \n",
    "    return features_upsampled, target_upsampled\n",
    "\n"
   ]
  },
  {
   "cell_type": "code",
   "execution_count": 29,
   "metadata": {},
   "outputs": [
    {
     "data": {
      "text/plain": [
       "1    0.504919\n",
       "0    0.495081\n",
       "Name: Exited, dtype: float64"
      ]
     },
     "execution_count": 29,
     "metadata": {},
     "output_type": "execute_result"
    }
   ],
   "source": [
    "features_upsampled, target_upsampled = upsample(features_train, target_train, 4)\n",
    "\n",
    "#оценим результат апсемплинга:\n",
    "target_upsampled.value_counts(normalize=True)"
   ]
  },
  {
   "cell_type": "code",
   "execution_count": 30,
   "metadata": {},
   "outputs": [
    {
     "name": "stdout",
     "output_type": "stream",
     "text": [
      "Метрика f1 наилучшей модели деревьев решений на валидационной выборке с учётом балансирови через upsampling: 0.5587\n",
      "Значение метрики AUC-ROC лучшей модели: 0.8091\n",
      "Значение depth = 6\n",
      "CPU times: user 304 ms, sys: 4.11 ms, total: 308 ms\n",
      "Wall time: 329 ms\n"
     ]
    }
   ],
   "source": [
    "%%time\n",
    "# начнём с дерева решений\n",
    "\n",
    "best_depth, best_result  = 0, 0\n",
    "for depth in range(1,11,1):\n",
    "    model = DecisionTreeClassifier(max_depth=depth, random_state=12345)\n",
    "    model.fit(features_upsampled, target_upsampled)\n",
    "    prediction = model.predict(features_valid)\n",
    "    result = f1_score(target_valid, prediction)\n",
    "    if result > best_result:\n",
    "        dtc_model = model\n",
    "        best_result = result\n",
    "        best_depth = depth\n",
    "\n",
    "prediction = dtc_model.predict(features_valid)\n",
    "prediction_proba = dtc_model.predict_proba(features_valid)[:,1]\n",
    "auc_roc = roc_auc_score(target_valid, prediction_proba)\n",
    "print(\"Метрика f1 наилучшей модели деревьев решений на валидационной выборке с учётом балансирови через upsampling:\", best_result.round(4))\n",
    "print('Значение метрики AUC-ROC лучшей модели:', auc_roc.round(4))\n",
    "print(f\"Значение depth = {best_depth}\")"
   ]
  },
  {
   "cell_type": "code",
   "execution_count": 31,
   "metadata": {},
   "outputs": [
    {
     "name": "stdout",
     "output_type": "stream",
     "text": [
      "F1 модели модели логистической регрессии на валидационной выборке с учётом балансировки через upsampling: 0.4767\n",
      "Значение метрики AUC-ROC лучшей модели: 0.7726\n",
      "CPU times: user 71.8 ms, sys: 40.7 ms, total: 113 ms\n",
      "Wall time: 101 ms\n"
     ]
    }
   ],
   "source": [
    "%%time\n",
    "# посмотрим на результаты модели логистической регрессии\n",
    "\n",
    "lr_model = LogisticRegression(random_state=12345)\n",
    "lr_model.fit(features_upsampled, target_upsampled)\n",
    "prediction = lr_model.predict(features_valid)\n",
    "prediction_proba = lr_model.predict_proba(features_valid)[:,1]\n",
    "result = f1_score(target_valid, prediction)\n",
    "auc_roc = roc_auc_score(target_valid, prediction_proba)\n",
    "\n",
    "print(\"F1 модели модели логистической регрессии на валидационной выборке с учётом балансировки через upsampling:\", result.round(4))\n",
    "print('Значение метрики AUC-ROC лучшей модели:', auc_roc.round(4))"
   ]
  },
  {
   "cell_type": "code",
   "execution_count": 32,
   "metadata": {},
   "outputs": [
    {
     "name": "stdout",
     "output_type": "stream",
     "text": [
      "Показатели с учётом балансировки через upsampling:\n",
      "Значение n_estimators = 90, значение метрики f1 = 0.589\n",
      "Значение метрики AUC-ROC лучшей модели: 0.8457\n",
      "CPU times: user 6.39 s, sys: 10.6 ms, total: 6.4 s\n",
      "Wall time: 6.51 s\n"
     ]
    }
   ],
   "source": [
    "%%time\n",
    "# закончим моделью случайного леса\n",
    "\n",
    "best_depth, best_result  = 0, 0\n",
    "for estimators in range(10,100,10):\n",
    "    model = RandomForestClassifier(n_estimators=estimators, max_depth=14, random_state=12345)\n",
    "    model.fit(features_upsampled, target_upsampled)\n",
    "    prediction = model.predict(features_valid)\n",
    "    result = f1_score(target_valid, prediction)\n",
    "    if result > best_result:\n",
    "        rfc_model = model\n",
    "        best_result = result\n",
    "        best_depth = depth\n",
    "\n",
    "prediction = rfc_model.predict(features_valid)\n",
    "prediction_proba = rfc_model.predict_proba(features_valid)[:,1]\n",
    "auc_roc = roc_auc_score(target_valid, prediction_proba)\n",
    "\n",
    "\n",
    "print('Показатели с учётом балансировки через upsampling:')\n",
    "print(f\"Значение n_estimators = {estimators}, значение метрики f1 = {best_result.round(4)}\")\n",
    "print('Значение метрики AUC-ROC лучшей модели:', auc_roc.round(4))"
   ]
  },
  {
   "cell_type": "markdown",
   "metadata": {},
   "source": [
    "**Наблдается небольшое улучшение метрик всех моделей, наименее заметное относительно вредыдущей итерации**"
   ]
  },
  {
   "cell_type": "code",
   "execution_count": 33,
   "metadata": {},
   "outputs": [],
   "source": [
    "# следующий метод - снижение выборки"
   ]
  },
  {
   "cell_type": "code",
   "execution_count": 34,
   "metadata": {},
   "outputs": [],
   "source": [
    "\n",
    "def downsample(features, target, fraction):\n",
    "    features_zeros = features[target == 0]\n",
    "    features_ones = features[target == 1]\n",
    "    target_zeros = target[target == 0]\n",
    "    target_ones = target[target == 1]\n",
    "\n",
    "    features_downsampled = pd.concat(\n",
    "        [features_zeros.sample(frac=fraction, random_state=12345)] + [features_ones])\n",
    "    target_downsampled = pd.concat(\n",
    "        [target_zeros.sample(frac=fraction, random_state=12345)] + [target_ones])\n",
    "    \n",
    "    features_downsampled, target_downsampled = shuffle(\n",
    "        features_downsampled, target_downsampled, random_state=12345)\n",
    "    \n",
    "    return features_downsampled, target_downsampled"
   ]
  },
  {
   "cell_type": "code",
   "execution_count": 35,
   "metadata": {},
   "outputs": [
    {
     "data": {
      "text/plain": [
       "1    0.504971\n",
       "0    0.495029\n",
       "Name: Exited, dtype: float64"
      ]
     },
     "execution_count": 35,
     "metadata": {},
     "output_type": "execute_result"
    }
   ],
   "source": [
    "features_downsampled, target_downsampled = downsample(features_train, target_train, 0.25)\n",
    "\n",
    "#оценим результат даунсемплинга:\n",
    "target_downsampled.value_counts(normalize=True)"
   ]
  },
  {
   "cell_type": "code",
   "execution_count": 36,
   "metadata": {},
   "outputs": [
    {
     "name": "stdout",
     "output_type": "stream",
     "text": [
      "Метрика f1 наилучшей модели деревьев решений на валидационной выборке с учётом балансирови через downsampling: 0.5493\n",
      "Значение метрики AUC-ROC лучшей модели: 0.8144\n",
      "Значение depth = 7\n",
      "CPU times: user 122 ms, sys: 34 µs, total: 122 ms\n",
      "Wall time: 148 ms\n"
     ]
    }
   ],
   "source": [
    "%%time\n",
    "# начнём с дерева решений\n",
    "\n",
    "best_depth, best_result  = 0, 0\n",
    "for depth in range(1,11,1):\n",
    "    model = DecisionTreeClassifier(max_depth=depth, random_state=12345)\n",
    "    model.fit(features_downsampled, target_downsampled)\n",
    "    prediction = model.predict(features_valid)\n",
    "    result = f1_score(target_valid, prediction)\n",
    "    if result > best_result:\n",
    "        dtc_model = model\n",
    "        best_result = result\n",
    "        best_depth = depth\n",
    "\n",
    "prediction = dtc_model.predict(features_valid)\n",
    "prediction_proba = dtc_model.predict_proba(features_valid)[:,1]\n",
    "auc_roc = roc_auc_score(target_valid, prediction_proba)\n",
    "print(\"Метрика f1 наилучшей модели деревьев решений на валидационной выборке с учётом балансирови через downsampling:\", best_result.round(4))\n",
    "print('Значение метрики AUC-ROC лучшей модели:', auc_roc.round(4))\n",
    "print(f\"Значение depth = {best_depth}\")"
   ]
  },
  {
   "cell_type": "code",
   "execution_count": 37,
   "metadata": {},
   "outputs": [
    {
     "name": "stdout",
     "output_type": "stream",
     "text": [
      "F1 модели модели логистической регрессии на валидационной выборке с учётом балансировки через downsampling: 0.475\n",
      "Значение метрики AUC-ROC лучшей модели: 0.7738\n",
      "CPU times: user 42.1 ms, sys: 56.2 ms, total: 98.3 ms\n",
      "Wall time: 85.6 ms\n"
     ]
    }
   ],
   "source": [
    "%%time\n",
    "# продолжим с моделью логистической регрессии\n",
    "\n",
    "lr_model = LogisticRegression(random_state=12345)\n",
    "lr_model.fit(features_downsampled, target_downsampled)\n",
    "prediction = lr_model.predict(features_valid)\n",
    "prediction_proba = lr_model.predict_proba(features_valid)[:,1]\n",
    "result = f1_score(target_valid, prediction)\n",
    "auc_roc = roc_auc_score(target_valid, prediction_proba)\n",
    "\n",
    "print(\"F1 модели модели логистической регрессии на валидационной выборке с учётом балансировки через downsampling:\", result.round(4))\n",
    "print('Значение метрики AUC-ROC лучшей модели:', auc_roc.round(4))"
   ]
  },
  {
   "cell_type": "code",
   "execution_count": 38,
   "metadata": {},
   "outputs": [
    {
     "name": "stdout",
     "output_type": "stream",
     "text": [
      "Показатели с учётом балансировки через downsampling:\n",
      "Значение n_estimators = 90, значение метрики f1 = 0.5589\n",
      "Значение метрики AUC-ROC лучшей модели: 0.8432\n",
      "CPU times: user 2.31 s, sys: 0 ns, total: 2.31 s\n",
      "Wall time: 2.32 s\n"
     ]
    }
   ],
   "source": [
    "%%time\n",
    "# закончим моделью случайного леса\n",
    "\n",
    "best_depth, best_result  = 0, 0\n",
    "for estimators in range(10,100,10):\n",
    "    model = RandomForestClassifier(n_estimators=estimators, max_depth=14, random_state=12345)\n",
    "    model.fit(features_downsampled, target_downsampled)\n",
    "    prediction = model.predict(features_valid)\n",
    "    result = f1_score(target_valid, prediction)\n",
    "    if result > best_result:\n",
    "        rfc_model = model\n",
    "        best_result = result\n",
    "        best_depth = depth\n",
    "\n",
    "prediction = rfc_model.predict(features_valid)\n",
    "prediction_proba = rfc_model.predict_proba(features_valid)[:,1]\n",
    "auc_roc = roc_auc_score(target_valid, prediction_proba)\n",
    "\n",
    "\n",
    "print('Показатели с учётом балансировки через downsampling:')\n",
    "print(f\"Значение n_estimators = {estimators}, значение метрики f1 = {best_result.round(4)}\")\n",
    "print('Значение метрики AUC-ROC лучшей модели:', auc_roc.round(4))"
   ]
  },
  {
   "cell_type": "markdown",
   "metadata": {},
   "source": [
    "**после даунсэмплинга наблюдается снижение метрики f1 у всех моделей, при этом auc_roc немного выросла для модели дерева решений**"
   ]
  },
  {
   "cell_type": "markdown",
   "metadata": {},
   "source": [
    "**с учётом хороших показателей модели случайного леса с апсэмплингом остановимся на ней, но попробуем добавить в параметры class_weight='balanced'**"
   ]
  },
  {
   "cell_type": "code",
   "execution_count": 39,
   "metadata": {},
   "outputs": [
    {
     "name": "stdout",
     "output_type": "stream",
     "text": [
      "Показатели с учётом балансировки через upsampling и class_weight:\n",
      "Значение n_estimators = 90, значение метрики f1 = 0.5905\n",
      "Значение метрики AUC-ROC лучшей модели: 0.8449\n",
      "CPU times: user 6.39 s, sys: 26.6 ms, total: 6.42 s\n",
      "Wall time: 6.43 s\n"
     ]
    }
   ],
   "source": [
    "%%time\n",
    "# модель случайного леса с апсэмплингом и параметром баланса классов\n",
    "\n",
    "best_depth, best_result = 0, 0\n",
    "for estimators in range(10,100,10):\n",
    "    model = RandomForestClassifier(n_estimators=estimators, max_depth=14, random_state=12345, class_weight='balanced')\n",
    "    model.fit(features_upsampled, target_upsampled)\n",
    "    prediction = model.predict(features_valid)\n",
    "    result = f1_score(target_valid, prediction)\n",
    "    if result > best_result:\n",
    "        rfc_upsampled_model = model\n",
    "        best_result = result\n",
    "        best_depth = depth\n",
    "\n",
    "prediction = rfc_upsampled_model.predict(features_valid)\n",
    "prediction_proba = rfc_upsampled_model.predict_proba(features_valid)[:,1]\n",
    "auc_roc = roc_auc_score(target_valid, prediction_proba)\n",
    "\n",
    "\n",
    "print('Показатели с учётом балансировки через upsampling и class_weight:')\n",
    "print(f\"Значение n_estimators = {estimators}, значение метрики f1 = {best_result.round(4)}\")\n",
    "print('Значение метрики AUC-ROC лучшей модели:', auc_roc.round(4))"
   ]
  },
  {
   "cell_type": "code",
   "execution_count": 40,
   "metadata": {},
   "outputs": [
    {
     "name": "stdout",
     "output_type": "stream",
     "text": [
      "Значение метрики f1 случайной модели = 0.2656\n"
     ]
    }
   ],
   "source": [
    "# проверим модель на адекватность\n",
    "dummy_clf = DummyClassifier( random_state=12345,)\n",
    "dummy_clf.fit(features_upsampled, target_upsampled)\n",
    "dummy_prediction = dummy_clf.predict(features_valid)\n",
    "result = f1_score(target_valid, dummy_prediction)\n",
    "\n",
    "print(f\"Значение метрики f1 случайной модели = {result.round(4)}\")\n"
   ]
  },
  {
   "cell_type": "markdown",
   "metadata": {},
   "source": [
    "**нам удалось добиться требуемого уровня метрики f1 на валидационной выборке и модель продемонстрировала свою адекватность**"
   ]
  },
  {
   "cell_type": "markdown",
   "metadata": {},
   "source": [
    "# 4. Тестирование модели"
   ]
  },
  {
   "cell_type": "code",
   "execution_count": 41,
   "metadata": {},
   "outputs": [
    {
     "name": "stdout",
     "output_type": "stream",
     "text": [
      "Показатели метрик на тестовой выборке:\n",
      "Значение метрики f1: 0.6106\n",
      "Значение метрики auc_roc: 0.7494\n"
     ]
    }
   ],
   "source": [
    "# дообучим модель валидационными данными:\n",
    "features_upsampled, target_upsampled = upsample(pd.concat([features_valid, features_train]),\n",
    "                                                pd.concat([target_valid, target_train ]), 4)\n",
    "rfc_upsampled_model.fit(features_upsampled, target_upsampled)\n",
    "\n",
    "# посчитаем метрики:\n",
    "test_prediction = rfc_upsampled_model.predict(features_test)\n",
    "test_result = f1_score(target_test, test_prediction)\n",
    "auc_roc = roc_auc_score(target_test, test_prediction)\n",
    "\n",
    "print('Показатели метрик на тестовой выборке:')\n",
    "print('Значение метрики f1:', test_result.round(4))\n",
    "print('Значение метрики auc_roc:', auc_roc.round(4))"
   ]
  },
  {
   "cell_type": "markdown",
   "metadata": {},
   "source": [
    "**на тестовых данных значение метрики f1 значительно лучше чем на тренировочных, но показатель auc_roc также заметно снизился. По данным из интернета, когда нам важно прогнозирование положительного класса, лучше всего подходит метрика f1, для ситуаций где важно прогнозирование обоих классов лучше использовать auc_roc**"
   ]
  },
  {
   "cell_type": "code",
   "execution_count": null,
   "metadata": {},
   "outputs": [],
   "source": []
  },
  {
   "cell_type": "markdown",
   "metadata": {},
   "source": [
    "# Вывод:"
   ]
  },
  {
   "cell_type": "markdown",
   "metadata": {},
   "source": [
    "1. Данные были загружены и проанализированы. Мультиколинеарность между признаками отсутствует. В признаке Tenure были пропуски, которые были заполнены медианными значениями по соответствующему набору.\n",
    "\n",
    "2. В датасете имеется дисбаланс по целевому признаку. По итогу первого применения моделей, без устранения дисбаланса, наилучший результат по метрике f1 у случайного леса, наихудший у модели логистической регрессии (0,10), при этом метрика auc_roc для логистической регрессии составила 0.68, что лучше чем значение 0.5 для \"случайной модели\"\n",
    "\n",
    "3. Для балансировки данных были использованы три подхода: учёт баланса в параметриах модели, upsampling и downsampling. Наилучший результат продемонстрировал метод upsampling с моделью случайного леса, при этом макимальный результат был достигнут за счёт учёта в модели параметра class_weight='balanced'\n",
    "\n",
    "4. По итогу тестирования модели,значение метрики f1 значительно лучше чем на тренировочных данных, но показатель auc_roc заметно снизился. С учётом дисбаланса целевого признака, лучше ориентироватьсяя именно на метрику f1"
   ]
  },
  {
   "cell_type": "code",
   "execution_count": null,
   "metadata": {},
   "outputs": [],
   "source": []
  }
 ],
 "metadata": {
  "kernelspec": {
   "display_name": "Python 3",
   "language": "python",
   "name": "python3"
  },
  "language_info": {
   "codemirror_mode": {
    "name": "ipython",
    "version": 3
   },
   "file_extension": ".py",
   "mimetype": "text/x-python",
   "name": "python",
   "nbconvert_exporter": "python",
   "pygments_lexer": "ipython3",
   "version": "3.8.8"
  },
  "toc": {
   "base_numbering": 1,
   "nav_menu": {},
   "number_sections": true,
   "sideBar": true,
   "skip_h1_title": true,
   "title_cell": "Table of Contents",
   "title_sidebar": "Contents",
   "toc_cell": false,
   "toc_position": {},
   "toc_section_display": true,
   "toc_window_display": false
  }
 },
 "nbformat": 4,
 "nbformat_minor": 2
}
