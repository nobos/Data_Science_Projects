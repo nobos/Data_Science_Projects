{
 "cells": [
  {
   "cell_type": "markdown",
   "id": "863ea105",
   "metadata": {
    "ExecuteTime": {
     "end_time": "2021-07-28T04:03:03.240816Z",
     "start_time": "2021-07-28T04:03:02.954304Z"
    }
   },
   "source": [
    "# Телеком — задача проекта"
   ]
  },
  {
   "cell_type": "markdown",
   "id": "32d1e573",
   "metadata": {},
   "source": [
    "Оператор связи «Ниединогоразрыва.ком» хочет научиться прогнозировать отток клиентов. Если выяснится, что пользователь планирует уйти, ему будут предложены промокоды и специальные условия. Команда оператора собрала персональные данные о некоторых клиентах, информацию об их тарифах и договорах."
   ]
  },
  {
   "cell_type": "markdown",
   "id": "548f5523",
   "metadata": {},
   "source": [
    "### Описание услуг\n",
    "\n",
    "Оператор предоставляет два основных типа услуг: \n",
    "\n",
    "1. Стационарную телефонную связь. Возможно подключение телефонного аппарата к нескольким линиям одновременно.\n",
    "2. Интернет. Подключение может быть двух типов: через телефонную линию (DSL*,* от англ. *digital subscriber line*, «цифровая абонентская линия») или оптоволоконный кабель (*Fiber optic*).  \n",
    "\n",
    "Также доступны такие услуги:\n",
    "\n",
    "- Интернет-безопасность: антивирус (*DeviceProtection*) и блокировка небезопасных сайтов (*OnlineSecurity*);\n",
    "- Выделенная линия технической поддержки (*TechSupport*);\n",
    "- Облачное хранилище файлов для резервного копирования данных (*OnlineBackup*);\n",
    "- Стриминговое телевидение (*StreamingTV*) и каталог фильмов (*StreamingMovies*).\n",
    "\n",
    "За услуги клиенты могут платить каждый месяц или заключить договор на 1–2 года. Доступны различные способы расчёта и возможность получения электронного чека.\n",
    "\n",
    "### Описание данных\n",
    "\n",
    "Данные состоят из файлов, полученных из разных источников:\n",
    "\n",
    "- `contract.csv` — информация о договоре;\n",
    "- `personal.csv` — персональные данные клиента;\n",
    "- `internet.csv` — информация об интернет-услугах;\n",
    "- `phone.csv` — информация об услугах телефонии.\n",
    "\n",
    "Во всех файлах столбец `customerID` содержит код клиента.\n",
    "\n",
    "Информация о договорах актуальна на 1 февраля 2020."
   ]
  },
  {
   "cell_type": "code",
   "execution_count": 94,
   "id": "18d33f7a",
   "metadata": {
    "ExecuteTime": {
     "end_time": "2021-08-03T04:38:43.396532Z",
     "start_time": "2021-08-03T04:38:43.386859Z"
    }
   },
   "outputs": [],
   "source": [
    "# загрузим необходимые библиотеки:\n",
    "\n",
    "import pandas as pd\n",
    "import numpy as np\n",
    "import seaborn as sns\n",
    "import matplotlib.pyplot as plt\n",
    "\n",
    "\n",
    "from sklearn.model_selection import train_test_split, cross_validate\n",
    "from sklearn.preprocessing import OrdinalEncoder \n",
    "\n",
    "from sklearn.metrics import roc_auc_score, accuracy_score, make_scorer, roc_curve, confusion_matrix, plot_confusion_matrix\n",
    "\n",
    "from sklearn.tree import DecisionTreeClassifier\n",
    "from sklearn.ensemble import RandomForestClassifier\n",
    "from sklearn.linear_model import LogisticRegression\n",
    "\n",
    "import lightgbm as lgb\n",
    "from catboost import CatBoostClassifier"
   ]
  },
  {
   "cell_type": "code",
   "execution_count": 2,
   "id": "c4796717",
   "metadata": {
    "ExecuteTime": {
     "end_time": "2021-08-03T03:56:09.053285Z",
     "start_time": "2021-08-03T03:56:09.042073Z"
    }
   },
   "outputs": [],
   "source": [
    "from jupyterthemes import jtplot\n",
    "jtplot.style(theme='onedork')"
   ]
  },
  {
   "cell_type": "markdown",
   "id": "a1f5b406",
   "metadata": {
    "ExecuteTime": {
     "end_time": "2021-07-31T12:29:04.700717Z",
     "start_time": "2021-07-31T12:29:04.696045Z"
    }
   },
   "source": [
    "**План работы:**  \n",
    "1. Подготовка данных:  \n",
    "    1.1 Преобразуем данные к нужному типу.  \n",
    "    1.2 Избавимся от не значимых критериев (например, PaperlessBilling)  \n",
    "    1.3 Сгенерируем дополнительных признаков (например, Life Time)  \n",
    "    1.4 Закодируем категориальные признаки методом OHE  \n",
    "    1.5 Оценим мультиколинеарность признаков.  \n",
    "    1.6 Избавимся от дисбаланса классов.  \n",
    "2.Исследование задачи  \n",
    "    2.1 Попробуем различные модели для обучения  \n",
    "3. Тестирование  \n",
    "    3.1 Протеструем выбранную модель на тестовой выборке.  "
   ]
  },
  {
   "cell_type": "markdown",
   "id": "cf3c351e",
   "metadata": {},
   "source": [
    "## 1. Подготовка данных"
   ]
  },
  {
   "cell_type": "code",
   "execution_count": 3,
   "id": "53c5cd46",
   "metadata": {
    "ExecuteTime": {
     "end_time": "2021-08-03T03:56:09.123103Z",
     "start_time": "2021-08-03T03:56:09.055824Z"
    }
   },
   "outputs": [],
   "source": [
    "# загрузим данные\n",
    "try:\n",
    "    contract = pd.read_csv('contract.csv')\n",
    "    internet = pd.read_csv('internet.csv')\n",
    "    personal = pd.read_csv('personal.csv')\n",
    "    phone = pd.read_csv('phone.csv')\n",
    "except:\n",
    "    contract = pd.read_csv('/datasets/final_provider/contract.csv')\n",
    "    internet = pd.read_csv('/datasets/final_provider/internet.csv')\n",
    "    personal = pd.read_csv('/datasets/final_provider/personal.csv')\n",
    "    phone = pd.read_csv('/datasets/final_provider/phone.csv')"
   ]
  },
  {
   "cell_type": "markdown",
   "id": "4f6022b4",
   "metadata": {},
   "source": [
    "**EDA contract DF**"
   ]
  },
  {
   "cell_type": "code",
   "execution_count": 4,
   "id": "f86fdb54",
   "metadata": {
    "ExecuteTime": {
     "end_time": "2021-08-03T03:56:09.155275Z",
     "start_time": "2021-08-03T03:56:09.127857Z"
    }
   },
   "outputs": [
    {
     "data": {
      "text/html": [
       "<div>\n",
       "<style scoped>\n",
       "    .dataframe tbody tr th:only-of-type {\n",
       "        vertical-align: middle;\n",
       "    }\n",
       "\n",
       "    .dataframe tbody tr th {\n",
       "        vertical-align: top;\n",
       "    }\n",
       "\n",
       "    .dataframe thead th {\n",
       "        text-align: right;\n",
       "    }\n",
       "</style>\n",
       "<table border=\"1\" class=\"dataframe\">\n",
       "  <thead>\n",
       "    <tr style=\"text-align: right;\">\n",
       "      <th></th>\n",
       "      <th>customerID</th>\n",
       "      <th>BeginDate</th>\n",
       "      <th>EndDate</th>\n",
       "      <th>Type</th>\n",
       "      <th>PaperlessBilling</th>\n",
       "      <th>PaymentMethod</th>\n",
       "      <th>MonthlyCharges</th>\n",
       "      <th>TotalCharges</th>\n",
       "    </tr>\n",
       "  </thead>\n",
       "  <tbody>\n",
       "    <tr>\n",
       "      <th>4566</th>\n",
       "      <td>8375-KVTHK</td>\n",
       "      <td>2014-06-01</td>\n",
       "      <td>No</td>\n",
       "      <td>One year</td>\n",
       "      <td>Yes</td>\n",
       "      <td>Electronic check</td>\n",
       "      <td>100.30</td>\n",
       "      <td>6754.35</td>\n",
       "    </tr>\n",
       "    <tr>\n",
       "      <th>4162</th>\n",
       "      <td>0769-MURVM</td>\n",
       "      <td>2014-02-01</td>\n",
       "      <td>No</td>\n",
       "      <td>Two year</td>\n",
       "      <td>No</td>\n",
       "      <td>Bank transfer (automatic)</td>\n",
       "      <td>65.70</td>\n",
       "      <td>4575.35</td>\n",
       "    </tr>\n",
       "    <tr>\n",
       "      <th>1054</th>\n",
       "      <td>5981-ITEMU</td>\n",
       "      <td>2016-08-01</td>\n",
       "      <td>2019-12-01 00:00:00</td>\n",
       "      <td>Month-to-month</td>\n",
       "      <td>Yes</td>\n",
       "      <td>Bank transfer (automatic)</td>\n",
       "      <td>97.10</td>\n",
       "      <td>3706.95</td>\n",
       "    </tr>\n",
       "    <tr>\n",
       "      <th>4436</th>\n",
       "      <td>3639-XJHKQ</td>\n",
       "      <td>2018-07-01</td>\n",
       "      <td>No</td>\n",
       "      <td>Month-to-month</td>\n",
       "      <td>Yes</td>\n",
       "      <td>Electronic check</td>\n",
       "      <td>60.60</td>\n",
       "      <td>1297.8</td>\n",
       "    </tr>\n",
       "    <tr>\n",
       "      <th>5477</th>\n",
       "      <td>2725-TTRIQ</td>\n",
       "      <td>2014-02-01</td>\n",
       "      <td>No</td>\n",
       "      <td>Two year</td>\n",
       "      <td>Yes</td>\n",
       "      <td>Bank transfer (automatic)</td>\n",
       "      <td>84.20</td>\n",
       "      <td>5986.55</td>\n",
       "    </tr>\n",
       "    <tr>\n",
       "      <th>5485</th>\n",
       "      <td>7794-JASDG</td>\n",
       "      <td>2020-01-01</td>\n",
       "      <td>No</td>\n",
       "      <td>Month-to-month</td>\n",
       "      <td>Yes</td>\n",
       "      <td>Mailed check</td>\n",
       "      <td>50.75</td>\n",
       "      <td>50.75</td>\n",
       "    </tr>\n",
       "    <tr>\n",
       "      <th>386</th>\n",
       "      <td>0533-BNWKF</td>\n",
       "      <td>2015-05-01</td>\n",
       "      <td>2019-12-01 00:00:00</td>\n",
       "      <td>Month-to-month</td>\n",
       "      <td>Yes</td>\n",
       "      <td>Electronic check</td>\n",
       "      <td>85.45</td>\n",
       "      <td>4874.7</td>\n",
       "    </tr>\n",
       "    <tr>\n",
       "      <th>3136</th>\n",
       "      <td>3884-HCSWG</td>\n",
       "      <td>2018-06-01</td>\n",
       "      <td>2019-11-01 00:00:00</td>\n",
       "      <td>Month-to-month</td>\n",
       "      <td>Yes</td>\n",
       "      <td>Electronic check</td>\n",
       "      <td>70.00</td>\n",
       "      <td>1144.5</td>\n",
       "    </tr>\n",
       "    <tr>\n",
       "      <th>4417</th>\n",
       "      <td>0515-YPMCW</td>\n",
       "      <td>2019-11-01</td>\n",
       "      <td>2019-12-01 00:00:00</td>\n",
       "      <td>Month-to-month</td>\n",
       "      <td>Yes</td>\n",
       "      <td>Mailed check</td>\n",
       "      <td>70.45</td>\n",
       "      <td>70.45</td>\n",
       "    </tr>\n",
       "    <tr>\n",
       "      <th>465</th>\n",
       "      <td>2996-XAUVF</td>\n",
       "      <td>2014-04-01</td>\n",
       "      <td>No</td>\n",
       "      <td>Two year</td>\n",
       "      <td>Yes</td>\n",
       "      <td>Mailed check</td>\n",
       "      <td>40.05</td>\n",
       "      <td>2799.75</td>\n",
       "    </tr>\n",
       "  </tbody>\n",
       "</table>\n",
       "</div>"
      ],
      "text/plain": [
       "      customerID   BeginDate              EndDate            Type  \\\n",
       "4566  8375-KVTHK  2014-06-01                   No        One year   \n",
       "4162  0769-MURVM  2014-02-01                   No        Two year   \n",
       "1054  5981-ITEMU  2016-08-01  2019-12-01 00:00:00  Month-to-month   \n",
       "4436  3639-XJHKQ  2018-07-01                   No  Month-to-month   \n",
       "5477  2725-TTRIQ  2014-02-01                   No        Two year   \n",
       "5485  7794-JASDG  2020-01-01                   No  Month-to-month   \n",
       "386   0533-BNWKF  2015-05-01  2019-12-01 00:00:00  Month-to-month   \n",
       "3136  3884-HCSWG  2018-06-01  2019-11-01 00:00:00  Month-to-month   \n",
       "4417  0515-YPMCW  2019-11-01  2019-12-01 00:00:00  Month-to-month   \n",
       "465   2996-XAUVF  2014-04-01                   No        Two year   \n",
       "\n",
       "     PaperlessBilling              PaymentMethod  MonthlyCharges TotalCharges  \n",
       "4566              Yes           Electronic check          100.30      6754.35  \n",
       "4162               No  Bank transfer (automatic)           65.70      4575.35  \n",
       "1054              Yes  Bank transfer (automatic)           97.10      3706.95  \n",
       "4436              Yes           Electronic check           60.60       1297.8  \n",
       "5477              Yes  Bank transfer (automatic)           84.20      5986.55  \n",
       "5485              Yes               Mailed check           50.75        50.75  \n",
       "386               Yes           Electronic check           85.45       4874.7  \n",
       "3136              Yes           Electronic check           70.00       1144.5  \n",
       "4417              Yes               Mailed check           70.45        70.45  \n",
       "465               Yes               Mailed check           40.05      2799.75  "
      ]
     },
     "execution_count": 4,
     "metadata": {},
     "output_type": "execute_result"
    }
   ],
   "source": [
    "contract.sample(10)"
   ]
  },
  {
   "cell_type": "code",
   "execution_count": 5,
   "id": "2cebd073",
   "metadata": {
    "ExecuteTime": {
     "end_time": "2021-08-03T03:56:09.183037Z",
     "start_time": "2021-08-03T03:56:09.158582Z"
    }
   },
   "outputs": [
    {
     "name": "stdout",
     "output_type": "stream",
     "text": [
      "<class 'pandas.core.frame.DataFrame'>\n",
      "RangeIndex: 7043 entries, 0 to 7042\n",
      "Data columns (total 8 columns):\n",
      " #   Column            Non-Null Count  Dtype  \n",
      "---  ------            --------------  -----  \n",
      " 0   customerID        7043 non-null   object \n",
      " 1   BeginDate         7043 non-null   object \n",
      " 2   EndDate           7043 non-null   object \n",
      " 3   Type              7043 non-null   object \n",
      " 4   PaperlessBilling  7043 non-null   object \n",
      " 5   PaymentMethod     7043 non-null   object \n",
      " 6   MonthlyCharges    7043 non-null   float64\n",
      " 7   TotalCharges      7043 non-null   object \n",
      "dtypes: float64(1), object(7)\n",
      "memory usage: 440.3+ KB\n"
     ]
    }
   ],
   "source": [
    "contract.info()"
   ]
  },
  {
   "cell_type": "markdown",
   "id": "20463ef1",
   "metadata": {},
   "source": [
    "Для дальнейшей работы нужно преобразовать типы BeginDate и EndDate в datetime, TotalCharges во float."
   ]
  },
  {
   "cell_type": "code",
   "execution_count": 6,
   "id": "7e78e7f3",
   "metadata": {
    "ExecuteTime": {
     "end_time": "2021-08-03T03:56:09.202080Z",
     "start_time": "2021-08-03T03:56:09.185313Z"
    }
   },
   "outputs": [],
   "source": [
    "# в поле TotalCharges имеются пустые значения, для новых клиентов, подключенных только первый месяц\n",
    "\n",
    "contract.loc[contract['TotalCharges'] == ' ','TotalCharges'] = contract[contract['TotalCharges'] == ' ']['MonthlyCharges']\n",
    "contract['TotalCharges'] = contract['TotalCharges'].astype('float') \n",
    "# пустые значения в TC стояли для новых клиентов"
   ]
  },
  {
   "cell_type": "code",
   "execution_count": 7,
   "id": "ba22b551",
   "metadata": {
    "ExecuteTime": {
     "end_time": "2021-08-03T03:56:09.218270Z",
     "start_time": "2021-08-03T03:56:09.205246Z"
    }
   },
   "outputs": [],
   "source": [
    "contract['BeginDate'] = contract['BeginDate'].astype('datetime64[ns]') "
   ]
  },
  {
   "cell_type": "code",
   "execution_count": 8,
   "id": "77302a2b",
   "metadata": {
    "ExecuteTime": {
     "end_time": "2021-08-03T03:56:09.226176Z",
     "start_time": "2021-08-03T03:56:09.220161Z"
    }
   },
   "outputs": [],
   "source": [
    "target = contract['EndDate']\n",
    "target = np.where(target=='No', 0, 1)"
   ]
  },
  {
   "cell_type": "code",
   "execution_count": 9,
   "id": "6e5023ec",
   "metadata": {
    "ExecuteTime": {
     "end_time": "2021-08-03T03:56:09.240207Z",
     "start_time": "2021-08-03T03:56:09.228340Z"
    }
   },
   "outputs": [
    {
     "data": {
      "text/plain": [
       "0"
      ]
     },
     "execution_count": 9,
     "metadata": {},
     "output_type": "execute_result"
    }
   ],
   "source": [
    "contract['customerID'].duplicated().sum()"
   ]
  },
  {
   "cell_type": "markdown",
   "id": "06ca71d3",
   "metadata": {},
   "source": [
    "Все ID клиентов уникальны"
   ]
  },
  {
   "cell_type": "code",
   "execution_count": 10,
   "id": "baf32c0b",
   "metadata": {
    "ExecuteTime": {
     "end_time": "2021-08-03T03:56:09.556764Z",
     "start_time": "2021-08-03T03:56:09.244677Z"
    }
   },
   "outputs": [
    {
     "data": {
      "text/plain": [
       "<AxesSubplot:xlabel='BeginDate'>"
      ]
     },
     "execution_count": 10,
     "metadata": {},
     "output_type": "execute_result"
    },
    {
     "data": {
      "image/png": "[encoded data removed]",
      "text/plain": [
       "<Figure size 1080x360 with 1 Axes>"
      ]
     },
     "metadata": {},
     "output_type": "display_data"
    }
   ],
   "source": [
    "contract.groupby('BeginDate').size().plot.line(figsize=(15,5))"
   ]
  },
  {
   "cell_type": "code",
   "execution_count": 11,
   "id": "21405eb9",
   "metadata": {
    "ExecuteTime": {
     "end_time": "2021-08-03T03:56:09.575948Z",
     "start_time": "2021-08-03T03:56:09.559489Z"
    }
   },
   "outputs": [
    {
     "data": {
      "text/plain": [
       "BeginDate\n",
       "2020-01-01    233\n",
       "2020-02-01     11\n",
       "dtype: int64"
      ]
     },
     "execution_count": 11,
     "metadata": {},
     "output_type": "execute_result"
    }
   ],
   "source": [
    "contract[contract['BeginDate'] >= '2020-01-01'].groupby('BeginDate').size()"
   ]
  },
  {
   "cell_type": "code",
   "execution_count": 12,
   "id": "23897eb2",
   "metadata": {
    "ExecuteTime": {
     "end_time": "2021-08-03T03:56:09.593505Z",
     "start_time": "2021-08-03T03:56:09.578531Z"
    }
   },
   "outputs": [
    {
     "data": {
      "text/plain": [
       "2019-01-01    114\n",
       "Name: BeginDate, dtype: int64"
      ]
     },
     "execution_count": 12,
     "metadata": {},
     "output_type": "execute_result"
    }
   ],
   "source": [
    "contract[contract['BeginDate'] == '2019-01-01']['BeginDate'].value_counts()"
   ]
  },
  {
   "cell_type": "markdown",
   "id": "379dad6c",
   "metadata": {},
   "source": [
    "Видим активный рост после запуска в 2014 году, так же плавный рост с середины 2019 года. Резкий спад в конце графика связан вероятнее всего с отсутствием данных за февраль."
   ]
  },
  {
   "cell_type": "code",
   "execution_count": 13,
   "id": "46879000",
   "metadata": {
    "ExecuteTime": {
     "end_time": "2021-08-03T03:56:09.608663Z",
     "start_time": "2021-08-03T03:56:09.596985Z"
    }
   },
   "outputs": [
    {
     "data": {
      "text/plain": [
       "5174"
      ]
     },
     "execution_count": 13,
     "metadata": {},
     "output_type": "execute_result"
    }
   ],
   "source": [
    "contract[contract['EndDate'] == 'No'].EndDate.count()"
   ]
  },
  {
   "cell_type": "markdown",
   "id": "761e78d2",
   "metadata": {
    "ExecuteTime": {
     "end_time": "2021-07-28T17:54:47.305411Z",
     "start_time": "2021-07-28T17:54:47.301134Z"
    }
   },
   "source": [
    "Значение кроме No в EndDate есть у 26.5% клиентов. То есть наш датасет не сбалансирован, это нужно будет учесть при обучении."
   ]
  },
  {
   "cell_type": "code",
   "execution_count": 14,
   "id": "22c12faf",
   "metadata": {
    "ExecuteTime": {
     "end_time": "2021-08-03T03:56:09.626266Z",
     "start_time": "2021-08-03T03:56:09.610569Z"
    }
   },
   "outputs": [],
   "source": [
    "contract.loc[contract['EndDate'] == 'No', 'EndDate'] = '2020-02-01 00:00:00'\n",
    "contract['EndDate'] = contract['EndDate'].astype('datetime64[ns]')\n",
    "contract['LifeTime'] = (contract['EndDate'] - contract['BeginDate']).dt.days\n",
    "\n",
    "# преобразуем enddate в булиев массив\n",
    "contract['EndDate'] = target"
   ]
  },
  {
   "cell_type": "code",
   "execution_count": 15,
   "id": "8dafab45",
   "metadata": {
    "ExecuteTime": {
     "end_time": "2021-08-03T03:56:09.642918Z",
     "start_time": "2021-08-03T03:56:09.628091Z"
    }
   },
   "outputs": [
    {
     "data": {
      "text/html": [
       "<div>\n",
       "<style scoped>\n",
       "    .dataframe tbody tr th:only-of-type {\n",
       "        vertical-align: middle;\n",
       "    }\n",
       "\n",
       "    .dataframe tbody tr th {\n",
       "        vertical-align: top;\n",
       "    }\n",
       "\n",
       "    .dataframe thead th {\n",
       "        text-align: right;\n",
       "    }\n",
       "</style>\n",
       "<table border=\"1\" class=\"dataframe\">\n",
       "  <thead>\n",
       "    <tr style=\"text-align: right;\">\n",
       "      <th></th>\n",
       "      <th>customerID</th>\n",
       "      <th>EndDate</th>\n",
       "      <th>Type</th>\n",
       "      <th>PaymentMethod</th>\n",
       "      <th>MonthlyCharges</th>\n",
       "      <th>TotalCharges</th>\n",
       "      <th>LifeTime</th>\n",
       "    </tr>\n",
       "  </thead>\n",
       "  <tbody>\n",
       "    <tr>\n",
       "      <th>0</th>\n",
       "      <td>7590-VHVEG</td>\n",
       "      <td>0</td>\n",
       "      <td>Month-to-month</td>\n",
       "      <td>Electronic check</td>\n",
       "      <td>29.85</td>\n",
       "      <td>29.85</td>\n",
       "      <td>31</td>\n",
       "    </tr>\n",
       "    <tr>\n",
       "      <th>1</th>\n",
       "      <td>5575-GNVDE</td>\n",
       "      <td>0</td>\n",
       "      <td>One year</td>\n",
       "      <td>Mailed check</td>\n",
       "      <td>56.95</td>\n",
       "      <td>1889.50</td>\n",
       "      <td>1036</td>\n",
       "    </tr>\n",
       "    <tr>\n",
       "      <th>2</th>\n",
       "      <td>3668-QPYBK</td>\n",
       "      <td>1</td>\n",
       "      <td>Month-to-month</td>\n",
       "      <td>Mailed check</td>\n",
       "      <td>53.85</td>\n",
       "      <td>108.15</td>\n",
       "      <td>61</td>\n",
       "    </tr>\n",
       "    <tr>\n",
       "      <th>3</th>\n",
       "      <td>7795-CFOCW</td>\n",
       "      <td>0</td>\n",
       "      <td>One year</td>\n",
       "      <td>Bank transfer (automatic)</td>\n",
       "      <td>42.30</td>\n",
       "      <td>1840.75</td>\n",
       "      <td>1371</td>\n",
       "    </tr>\n",
       "    <tr>\n",
       "      <th>4</th>\n",
       "      <td>9237-HQITU</td>\n",
       "      <td>1</td>\n",
       "      <td>Month-to-month</td>\n",
       "      <td>Electronic check</td>\n",
       "      <td>70.70</td>\n",
       "      <td>151.65</td>\n",
       "      <td>61</td>\n",
       "    </tr>\n",
       "  </tbody>\n",
       "</table>\n",
       "</div>"
      ],
      "text/plain": [
       "   customerID  EndDate            Type              PaymentMethod  \\\n",
       "0  7590-VHVEG        0  Month-to-month           Electronic check   \n",
       "1  5575-GNVDE        0        One year               Mailed check   \n",
       "2  3668-QPYBK        1  Month-to-month               Mailed check   \n",
       "3  7795-CFOCW        0        One year  Bank transfer (automatic)   \n",
       "4  9237-HQITU        1  Month-to-month           Electronic check   \n",
       "\n",
       "   MonthlyCharges  TotalCharges  LifeTime  \n",
       "0           29.85         29.85        31  \n",
       "1           56.95       1889.50      1036  \n",
       "2           53.85        108.15        61  \n",
       "3           42.30       1840.75      1371  \n",
       "4           70.70        151.65        61  "
      ]
     },
     "execution_count": 15,
     "metadata": {},
     "output_type": "execute_result"
    }
   ],
   "source": [
    "# избавимся от полей BeginDate и PaperlessBilling, чтобы не путать модель лишними признаками\n",
    "contract.drop(columns=['BeginDate', 'PaperlessBilling'], inplace=True)\n",
    "contract.head()"
   ]
  },
  {
   "cell_type": "code",
   "execution_count": 16,
   "id": "893d81f2",
   "metadata": {
    "ExecuteTime": {
     "end_time": "2021-08-03T03:56:09.843540Z",
     "start_time": "2021-08-03T03:56:09.646577Z"
    }
   },
   "outputs": [
    {
     "data": {
      "text/plain": [
       "<AxesSubplot:>"
      ]
     },
     "execution_count": 16,
     "metadata": {},
     "output_type": "execute_result"
    },
    {
     "data": {
      "image/png": "[encoded data removed]",
      "text/plain": [
       "<Figure size 460.8x403.2 with 1 Axes>"
      ]
     },
     "metadata": {},
     "output_type": "display_data"
    }
   ],
   "source": [
    "contract['Type'].value_counts().plot.bar()"
   ]
  },
  {
   "cell_type": "markdown",
   "id": "1b2eb136",
   "metadata": {
    "ExecuteTime": {
     "end_time": "2021-07-29T03:54:39.192782Z",
     "start_time": "2021-07-29T03:54:39.185951Z"
    }
   },
   "source": [
    "БОльшая часть клиентов использует помесячную оплату"
   ]
  },
  {
   "cell_type": "code",
   "execution_count": 17,
   "id": "8b90d40f",
   "metadata": {
    "ExecuteTime": {
     "end_time": "2021-08-03T03:56:10.026342Z",
     "start_time": "2021-08-03T03:56:09.845922Z"
    }
   },
   "outputs": [
    {
     "data": {
      "text/plain": [
       "<AxesSubplot:>"
      ]
     },
     "execution_count": 17,
     "metadata": {},
     "output_type": "execute_result"
    },
    {
     "data": {
      "image/png": "[encoded data removed]",
      "text/plain": [
       "<Figure size 460.8x403.2 with 1 Axes>"
      ]
     },
     "metadata": {},
     "output_type": "display_data"
    }
   ],
   "source": [
    "contract['PaymentMethod'].value_counts().plot.bar()"
   ]
  },
  {
   "cell_type": "code",
   "execution_count": 18,
   "id": "ba3ab073",
   "metadata": {
    "ExecuteTime": {
     "end_time": "2021-08-03T03:56:10.304767Z",
     "start_time": "2021-08-03T03:56:10.027595Z"
    }
   },
   "outputs": [
    {
     "name": "stderr",
     "output_type": "stream",
     "text": [
      "/home/dmitriy/.local/lib/python3.9/site-packages/seaborn/distributions.py:2557: FutureWarning: `distplot` is a deprecated function and will be removed in a future version. Please adapt your code to use either `displot` (a figure-level function with similar flexibility) or `histplot` (an axes-level function for histograms).\n",
      "  warnings.warn(msg, FutureWarning)\n"
     ]
    },
    {
     "data": {
      "text/plain": [
       "<AxesSubplot:xlabel='MonthlyCharges', ylabel='Density'>"
      ]
     },
     "execution_count": 18,
     "metadata": {},
     "output_type": "execute_result"
    },
    {
     "data": {
      "image/png": "[encoded data removed]",
      "text/plain": [
       "<Figure size 1080x360 with 1 Axes>"
      ]
     },
     "metadata": {},
     "output_type": "display_data"
    }
   ],
   "source": [
    "plt.figure(figsize=(15,5))\n",
    "sns.distplot(contract['MonthlyCharges'])"
   ]
  },
  {
   "cell_type": "markdown",
   "id": "aaf82616",
   "metadata": {},
   "source": [
    "Распределение не нормально. Есть пик в районе 20$, вероятно имеем много пользователей, у которых подключена только одна услуга (например интернет)"
   ]
  },
  {
   "cell_type": "code",
   "execution_count": 19,
   "id": "b335f4a1",
   "metadata": {
    "ExecuteTime": {
     "end_time": "2021-08-03T03:56:10.372408Z",
     "start_time": "2021-08-03T03:56:10.308216Z"
    }
   },
   "outputs": [
    {
     "name": "stdout",
     "output_type": "stream",
     "text": [
      "Клиентов с месячным чеком менее 30 долл.:\n"
     ]
    },
    {
     "data": {
      "text/plain": [
       "1653"
      ]
     },
     "metadata": {},
     "output_type": "display_data"
    },
    {
     "name": "stdout",
     "output_type": "stream",
     "text": [
      "Из низ клиентов с интернетом:\n"
     ]
    },
    {
     "data": {
      "text/plain": [
       "127"
      ]
     },
     "metadata": {},
     "output_type": "display_data"
    },
    {
     "name": "stdout",
     "output_type": "stream",
     "text": [
      "Из низ клиентов с телефонией:\n"
     ]
    },
    {
     "data": {
      "text/plain": [
       "1526"
      ]
     },
     "metadata": {},
     "output_type": "display_data"
    }
   ],
   "source": [
    "print('Клиентов с месячным чеком менее 30 долл.:')\n",
    "display(contract[contract['MonthlyCharges'] < 30].shape[0])\n",
    "\n",
    "print('Из низ клиентов с интернетом:')\n",
    "display(contract[contract['MonthlyCharges'] < 30].merge(internet, how='left').InternetService.notna().sum())\n",
    "\n",
    "print('Из низ клиентов с телефонией:')\n",
    "display(contract[contract['MonthlyCharges'] < 30].merge(phone, how='left').MultipleLines.notna().sum())"
   ]
  },
  {
   "cell_type": "code",
   "execution_count": 20,
   "id": "d5c937c7",
   "metadata": {
    "ExecuteTime": {
     "end_time": "2021-08-03T03:56:10.849850Z",
     "start_time": "2021-08-03T03:56:10.374776Z"
    }
   },
   "outputs": [
    {
     "name": "stderr",
     "output_type": "stream",
     "text": [
      "/home/dmitriy/.local/lib/python3.9/site-packages/seaborn/distributions.py:2557: FutureWarning: `distplot` is a deprecated function and will be removed in a future version. Please adapt your code to use either `displot` (a figure-level function with similar flexibility) or `histplot` (an axes-level function for histograms).\n",
      "  warnings.warn(msg, FutureWarning)\n"
     ]
    },
    {
     "data": {
      "image/png": "[encoded data removed]",
      "text/plain": [
       "<Figure size 1080x360 with 1 Axes>"
      ]
     },
     "metadata": {},
     "output_type": "display_data"
    }
   ],
   "source": [
    "plt.figure(figsize=(15,5))\n",
    "ax = sns.distplot(contract['TotalCharges'])"
   ]
  },
  {
   "cell_type": "markdown",
   "id": "0ccf79c3",
   "metadata": {},
   "source": [
    "такой график выглядит естественно. Клиентов с большим LTV предсказуемо меньше, чем выше LTV."
   ]
  },
  {
   "cell_type": "markdown",
   "id": "8d83425b",
   "metadata": {},
   "source": [
    "**EDA internet DF**"
   ]
  },
  {
   "cell_type": "code",
   "execution_count": 21,
   "id": "c4594940",
   "metadata": {
    "ExecuteTime": {
     "end_time": "2021-08-03T03:56:10.872041Z",
     "start_time": "2021-08-03T03:56:10.853139Z"
    }
   },
   "outputs": [
    {
     "data": {
      "text/html": [
       "<div>\n",
       "<style scoped>\n",
       "    .dataframe tbody tr th:only-of-type {\n",
       "        vertical-align: middle;\n",
       "    }\n",
       "\n",
       "    .dataframe tbody tr th {\n",
       "        vertical-align: top;\n",
       "    }\n",
       "\n",
       "    .dataframe thead th {\n",
       "        text-align: right;\n",
       "    }\n",
       "</style>\n",
       "<table border=\"1\" class=\"dataframe\">\n",
       "  <thead>\n",
       "    <tr style=\"text-align: right;\">\n",
       "      <th></th>\n",
       "      <th>customerID</th>\n",
       "      <th>InternetService</th>\n",
       "      <th>OnlineSecurity</th>\n",
       "      <th>OnlineBackup</th>\n",
       "      <th>DeviceProtection</th>\n",
       "      <th>TechSupport</th>\n",
       "      <th>StreamingTV</th>\n",
       "      <th>StreamingMovies</th>\n",
       "    </tr>\n",
       "  </thead>\n",
       "  <tbody>\n",
       "    <tr>\n",
       "      <th>4112</th>\n",
       "      <td>9591-YVTEB</td>\n",
       "      <td>DSL</td>\n",
       "      <td>Yes</td>\n",
       "      <td>Yes</td>\n",
       "      <td>No</td>\n",
       "      <td>No</td>\n",
       "      <td>Yes</td>\n",
       "      <td>No</td>\n",
       "    </tr>\n",
       "    <tr>\n",
       "      <th>2397</th>\n",
       "      <td>7855-DIWPO</td>\n",
       "      <td>Fiber optic</td>\n",
       "      <td>No</td>\n",
       "      <td>No</td>\n",
       "      <td>No</td>\n",
       "      <td>No</td>\n",
       "      <td>No</td>\n",
       "      <td>No</td>\n",
       "    </tr>\n",
       "    <tr>\n",
       "      <th>3132</th>\n",
       "      <td>0420-HLGXF</td>\n",
       "      <td>Fiber optic</td>\n",
       "      <td>No</td>\n",
       "      <td>No</td>\n",
       "      <td>Yes</td>\n",
       "      <td>No</td>\n",
       "      <td>Yes</td>\n",
       "      <td>Yes</td>\n",
       "    </tr>\n",
       "    <tr>\n",
       "      <th>3109</th>\n",
       "      <td>3441-CGZJH</td>\n",
       "      <td>DSL</td>\n",
       "      <td>Yes</td>\n",
       "      <td>No</td>\n",
       "      <td>Yes</td>\n",
       "      <td>Yes</td>\n",
       "      <td>Yes</td>\n",
       "      <td>Yes</td>\n",
       "    </tr>\n",
       "    <tr>\n",
       "      <th>244</th>\n",
       "      <td>8266-VBFQL</td>\n",
       "      <td>Fiber optic</td>\n",
       "      <td>No</td>\n",
       "      <td>No</td>\n",
       "      <td>Yes</td>\n",
       "      <td>Yes</td>\n",
       "      <td>No</td>\n",
       "      <td>Yes</td>\n",
       "    </tr>\n",
       "    <tr>\n",
       "      <th>4117</th>\n",
       "      <td>5424-RLQLC</td>\n",
       "      <td>DSL</td>\n",
       "      <td>No</td>\n",
       "      <td>Yes</td>\n",
       "      <td>No</td>\n",
       "      <td>No</td>\n",
       "      <td>Yes</td>\n",
       "      <td>No</td>\n",
       "    </tr>\n",
       "    <tr>\n",
       "      <th>2090</th>\n",
       "      <td>3166-PNEOF</td>\n",
       "      <td>DSL</td>\n",
       "      <td>Yes</td>\n",
       "      <td>No</td>\n",
       "      <td>Yes</td>\n",
       "      <td>Yes</td>\n",
       "      <td>Yes</td>\n",
       "      <td>Yes</td>\n",
       "    </tr>\n",
       "    <tr>\n",
       "      <th>5022</th>\n",
       "      <td>8221-EQDGL</td>\n",
       "      <td>DSL</td>\n",
       "      <td>Yes</td>\n",
       "      <td>Yes</td>\n",
       "      <td>Yes</td>\n",
       "      <td>No</td>\n",
       "      <td>No</td>\n",
       "      <td>No</td>\n",
       "    </tr>\n",
       "    <tr>\n",
       "      <th>2130</th>\n",
       "      <td>0431-APWVY</td>\n",
       "      <td>Fiber optic</td>\n",
       "      <td>No</td>\n",
       "      <td>No</td>\n",
       "      <td>No</td>\n",
       "      <td>No</td>\n",
       "      <td>Yes</td>\n",
       "      <td>Yes</td>\n",
       "    </tr>\n",
       "    <tr>\n",
       "      <th>751</th>\n",
       "      <td>6630-UJZMY</td>\n",
       "      <td>Fiber optic</td>\n",
       "      <td>No</td>\n",
       "      <td>No</td>\n",
       "      <td>No</td>\n",
       "      <td>No</td>\n",
       "      <td>Yes</td>\n",
       "      <td>No</td>\n",
       "    </tr>\n",
       "  </tbody>\n",
       "</table>\n",
       "</div>"
      ],
      "text/plain": [
       "      customerID InternetService OnlineSecurity OnlineBackup DeviceProtection  \\\n",
       "4112  9591-YVTEB             DSL            Yes          Yes               No   \n",
       "2397  7855-DIWPO     Fiber optic             No           No               No   \n",
       "3132  0420-HLGXF     Fiber optic             No           No              Yes   \n",
       "3109  3441-CGZJH             DSL            Yes           No              Yes   \n",
       "244   8266-VBFQL     Fiber optic             No           No              Yes   \n",
       "4117  5424-RLQLC             DSL             No          Yes               No   \n",
       "2090  3166-PNEOF             DSL            Yes           No              Yes   \n",
       "5022  8221-EQDGL             DSL            Yes          Yes              Yes   \n",
       "2130  0431-APWVY     Fiber optic             No           No               No   \n",
       "751   6630-UJZMY     Fiber optic             No           No               No   \n",
       "\n",
       "     TechSupport StreamingTV StreamingMovies  \n",
       "4112          No         Yes              No  \n",
       "2397          No          No              No  \n",
       "3132          No         Yes             Yes  \n",
       "3109         Yes         Yes             Yes  \n",
       "244          Yes          No             Yes  \n",
       "4117          No         Yes              No  \n",
       "2090         Yes         Yes             Yes  \n",
       "5022          No          No              No  \n",
       "2130          No         Yes             Yes  \n",
       "751           No         Yes              No  "
      ]
     },
     "execution_count": 21,
     "metadata": {},
     "output_type": "execute_result"
    }
   ],
   "source": [
    "internet.sample(10)"
   ]
  },
  {
   "cell_type": "code",
   "execution_count": 22,
   "id": "89d60db5",
   "metadata": {
    "ExecuteTime": {
     "end_time": "2021-08-03T03:56:10.931461Z",
     "start_time": "2021-08-03T03:56:10.874116Z"
    }
   },
   "outputs": [
    {
     "name": "stdout",
     "output_type": "stream",
     "text": [
      "<class 'pandas.core.frame.DataFrame'>\n",
      "RangeIndex: 5517 entries, 0 to 5516\n",
      "Data columns (total 8 columns):\n",
      " #   Column            Non-Null Count  Dtype \n",
      "---  ------            --------------  ----- \n",
      " 0   customerID        5517 non-null   object\n",
      " 1   InternetService   5517 non-null   object\n",
      " 2   OnlineSecurity    5517 non-null   object\n",
      " 3   OnlineBackup      5517 non-null   object\n",
      " 4   DeviceProtection  5517 non-null   object\n",
      " 5   TechSupport       5517 non-null   object\n",
      " 6   StreamingTV       5517 non-null   object\n",
      " 7   StreamingMovies   5517 non-null   object\n",
      "dtypes: object(8)\n",
      "memory usage: 344.9+ KB\n"
     ]
    }
   ],
   "source": [
    "internet.info()"
   ]
  },
  {
   "cell_type": "code",
   "execution_count": 23,
   "id": "2f142bc7",
   "metadata": {
    "ExecuteTime": {
     "end_time": "2021-08-03T03:56:12.135157Z",
     "start_time": "2021-08-03T03:56:10.937803Z"
    },
    "scrolled": false
   },
   "outputs": [
    {
     "data": {
      "image/png": "[encoded data removed]",
      "text/plain": [
       "<Figure size 460.8x403.2 with 1 Axes>"
      ]
     },
     "metadata": {},
     "output_type": "display_data"
    },
    {
     "data": {
      "image/png": "[encoded data removed]",
      "text/plain": [
       "<Figure size 460.8x403.2 with 1 Axes>"
      ]
     },
     "metadata": {},
     "output_type": "display_data"
    },
    {
     "data": {
      "image/png": "[encoded data removed]",
      "text/plain": [
       "<Figure size 460.8x403.2 with 1 Axes>"
      ]
     },
     "metadata": {},
     "output_type": "display_data"
    },
    {
     "data": {
      "image/png": "[encoded data removed]",
      "text/plain": [
       "<Figure size 460.8x403.2 with 1 Axes>"
      ]
     },
     "metadata": {},
     "output_type": "display_data"
    },
    {
     "data": {
      "image/png": "[encoded data removed]",
      "text/plain": [
       "<Figure size 460.8x403.2 with 1 Axes>"
      ]
     },
     "metadata": {},
     "output_type": "display_data"
    },
    {
     "data": {
      "image/png": "[encoded data removed]",
      "text/plain": [
       "<Figure size 460.8x403.2 with 1 Axes>"
      ]
     },
     "metadata": {},
     "output_type": "display_data"
    },
    {
     "data": {
      "image/png": "[encoded data removed]",
      "text/plain": [
       "<Figure size 460.8x403.2 with 1 Axes>"
      ]
     },
     "metadata": {},
     "output_type": "display_data"
    }
   ],
   "source": [
    "lst = internet.drop(columns=['customerID']).columns\n",
    "for i in lst:\n",
    "    ax = internet[i].value_counts().plot.bar()\n",
    "    plt.title(i)\n",
    "    plt.show()"
   ]
  },
  {
   "cell_type": "markdown",
   "id": "a8dbb826",
   "metadata": {},
   "source": [
    "**EDA personal DF**"
   ]
  },
  {
   "cell_type": "code",
   "execution_count": 24,
   "id": "245142d7",
   "metadata": {
    "ExecuteTime": {
     "end_time": "2021-08-03T03:56:12.152217Z",
     "start_time": "2021-08-03T03:56:12.137313Z"
    }
   },
   "outputs": [
    {
     "data": {
      "text/html": [
       "<div>\n",
       "<style scoped>\n",
       "    .dataframe tbody tr th:only-of-type {\n",
       "        vertical-align: middle;\n",
       "    }\n",
       "\n",
       "    .dataframe tbody tr th {\n",
       "        vertical-align: top;\n",
       "    }\n",
       "\n",
       "    .dataframe thead th {\n",
       "        text-align: right;\n",
       "    }\n",
       "</style>\n",
       "<table border=\"1\" class=\"dataframe\">\n",
       "  <thead>\n",
       "    <tr style=\"text-align: right;\">\n",
       "      <th></th>\n",
       "      <th>customerID</th>\n",
       "      <th>gender</th>\n",
       "      <th>SeniorCitizen</th>\n",
       "      <th>Partner</th>\n",
       "      <th>Dependents</th>\n",
       "    </tr>\n",
       "  </thead>\n",
       "  <tbody>\n",
       "    <tr>\n",
       "      <th>1479</th>\n",
       "      <td>6281-FKEWS</td>\n",
       "      <td>Female</td>\n",
       "      <td>0</td>\n",
       "      <td>No</td>\n",
       "      <td>No</td>\n",
       "    </tr>\n",
       "    <tr>\n",
       "      <th>1640</th>\n",
       "      <td>2351-RRBUE</td>\n",
       "      <td>Female</td>\n",
       "      <td>0</td>\n",
       "      <td>Yes</td>\n",
       "      <td>Yes</td>\n",
       "    </tr>\n",
       "    <tr>\n",
       "      <th>548</th>\n",
       "      <td>4676-MQUEA</td>\n",
       "      <td>Male</td>\n",
       "      <td>1</td>\n",
       "      <td>Yes</td>\n",
       "      <td>No</td>\n",
       "    </tr>\n",
       "    <tr>\n",
       "      <th>89</th>\n",
       "      <td>3016-KSVCP</td>\n",
       "      <td>Male</td>\n",
       "      <td>0</td>\n",
       "      <td>Yes</td>\n",
       "      <td>No</td>\n",
       "    </tr>\n",
       "    <tr>\n",
       "      <th>6197</th>\n",
       "      <td>1585-MQSSU</td>\n",
       "      <td>Male</td>\n",
       "      <td>0</td>\n",
       "      <td>No</td>\n",
       "      <td>No</td>\n",
       "    </tr>\n",
       "    <tr>\n",
       "      <th>3513</th>\n",
       "      <td>4063-EIKNQ</td>\n",
       "      <td>Male</td>\n",
       "      <td>0</td>\n",
       "      <td>Yes</td>\n",
       "      <td>Yes</td>\n",
       "    </tr>\n",
       "    <tr>\n",
       "      <th>758</th>\n",
       "      <td>2189-WWOEW</td>\n",
       "      <td>Female</td>\n",
       "      <td>0</td>\n",
       "      <td>No</td>\n",
       "      <td>Yes</td>\n",
       "    </tr>\n",
       "    <tr>\n",
       "      <th>3087</th>\n",
       "      <td>6979-ZNSFF</td>\n",
       "      <td>Female</td>\n",
       "      <td>0</td>\n",
       "      <td>No</td>\n",
       "      <td>No</td>\n",
       "    </tr>\n",
       "    <tr>\n",
       "      <th>2751</th>\n",
       "      <td>7909-FIOIY</td>\n",
       "      <td>Female</td>\n",
       "      <td>0</td>\n",
       "      <td>Yes</td>\n",
       "      <td>Yes</td>\n",
       "    </tr>\n",
       "    <tr>\n",
       "      <th>3548</th>\n",
       "      <td>0670-ANMUU</td>\n",
       "      <td>Male</td>\n",
       "      <td>0</td>\n",
       "      <td>No</td>\n",
       "      <td>No</td>\n",
       "    </tr>\n",
       "  </tbody>\n",
       "</table>\n",
       "</div>"
      ],
      "text/plain": [
       "      customerID  gender  SeniorCitizen Partner Dependents\n",
       "1479  6281-FKEWS  Female              0      No         No\n",
       "1640  2351-RRBUE  Female              0     Yes        Yes\n",
       "548   4676-MQUEA    Male              1     Yes         No\n",
       "89    3016-KSVCP    Male              0     Yes         No\n",
       "6197  1585-MQSSU    Male              0      No         No\n",
       "3513  4063-EIKNQ    Male              0     Yes        Yes\n",
       "758   2189-WWOEW  Female              0      No        Yes\n",
       "3087  6979-ZNSFF  Female              0      No         No\n",
       "2751  7909-FIOIY  Female              0     Yes        Yes\n",
       "3548  0670-ANMUU    Male              0      No         No"
      ]
     },
     "execution_count": 24,
     "metadata": {},
     "output_type": "execute_result"
    }
   ],
   "source": [
    "personal.sample(10)"
   ]
  },
  {
   "cell_type": "code",
   "execution_count": 25,
   "id": "e1ffeef8",
   "metadata": {
    "ExecuteTime": {
     "end_time": "2021-08-03T03:56:12.172051Z",
     "start_time": "2021-08-03T03:56:12.154278Z"
    }
   },
   "outputs": [
    {
     "name": "stdout",
     "output_type": "stream",
     "text": [
      "<class 'pandas.core.frame.DataFrame'>\n",
      "RangeIndex: 7043 entries, 0 to 7042\n",
      "Data columns (total 5 columns):\n",
      " #   Column         Non-Null Count  Dtype \n",
      "---  ------         --------------  ----- \n",
      " 0   customerID     7043 non-null   object\n",
      " 1   gender         7043 non-null   object\n",
      " 2   SeniorCitizen  7043 non-null   int64 \n",
      " 3   Partner        7043 non-null   object\n",
      " 4   Dependents     7043 non-null   object\n",
      "dtypes: int64(1), object(4)\n",
      "memory usage: 275.2+ KB\n"
     ]
    }
   ],
   "source": [
    "personal.info()"
   ]
  },
  {
   "cell_type": "code",
   "execution_count": 26,
   "id": "626a1794",
   "metadata": {
    "ExecuteTime": {
     "end_time": "2021-08-03T03:56:12.369512Z",
     "start_time": "2021-08-03T03:56:12.175302Z"
    }
   },
   "outputs": [
    {
     "data": {
      "text/plain": [
       "<AxesSubplot:>"
      ]
     },
     "execution_count": 26,
     "metadata": {},
     "output_type": "execute_result"
    },
    {
     "data": {
      "image/png": "[encoded data removed]",
      "text/plain": [
       "<Figure size 460.8x403.2 with 1 Axes>"
      ]
     },
     "metadata": {},
     "output_type": "display_data"
    }
   ],
   "source": [
    "personal['gender'].value_counts().plot.bar()"
   ]
  },
  {
   "cell_type": "markdown",
   "id": "3fef51ce",
   "metadata": {
    "ExecuteTime": {
     "end_time": "2021-07-29T04:40:12.781016Z",
     "start_time": "2021-07-29T04:40:12.772416Z"
    }
   },
   "source": [
    "Мужчин и женщин почти поровну"
   ]
  },
  {
   "cell_type": "code",
   "execution_count": 27,
   "id": "e1d2c55b",
   "metadata": {
    "ExecuteTime": {
     "end_time": "2021-08-03T03:56:12.378843Z",
     "start_time": "2021-08-03T03:56:12.372328Z"
    }
   },
   "outputs": [
    {
     "data": {
      "text/plain": [
       "0.1621468124378816"
      ]
     },
     "execution_count": 27,
     "metadata": {},
     "output_type": "execute_result"
    }
   ],
   "source": [
    "personal['SeniorCitizen'].sum()/personal.shape[0]"
   ]
  },
  {
   "cell_type": "markdown",
   "id": "2e47b465",
   "metadata": {},
   "source": [
    "16% пожилых граждан"
   ]
  },
  {
   "cell_type": "code",
   "execution_count": 28,
   "id": "45f13cdf",
   "metadata": {
    "ExecuteTime": {
     "end_time": "2021-08-03T03:56:12.567414Z",
     "start_time": "2021-08-03T03:56:12.386134Z"
    }
   },
   "outputs": [
    {
     "data": {
      "text/plain": [
       "<AxesSubplot:>"
      ]
     },
     "execution_count": 28,
     "metadata": {},
     "output_type": "execute_result"
    },
    {
     "data": {
      "image/png": "[encoded data removed]",
      "text/plain": [
       "<Figure size 460.8x403.2 with 1 Axes>"
      ]
     },
     "metadata": {},
     "output_type": "display_data"
    }
   ],
   "source": [
    "personal['Partner'].value_counts().plot.bar()"
   ]
  },
  {
   "cell_type": "code",
   "execution_count": 29,
   "id": "a83bf683",
   "metadata": {
    "ExecuteTime": {
     "end_time": "2021-08-03T03:56:12.745327Z",
     "start_time": "2021-08-03T03:56:12.570242Z"
    }
   },
   "outputs": [
    {
     "data": {
      "text/plain": [
       "<AxesSubplot:>"
      ]
     },
     "execution_count": 29,
     "metadata": {},
     "output_type": "execute_result"
    },
    {
     "data": {
      "image/png": "[encoded data removed]",
      "text/plain": [
       "<Figure size 460.8x403.2 with 1 Axes>"
      ]
     },
     "metadata": {},
     "output_type": "display_data"
    }
   ],
   "source": [
    "personal['Dependents'].value_counts().plot.bar()"
   ]
  },
  {
   "cell_type": "markdown",
   "id": "d2a2dccd",
   "metadata": {},
   "source": [
    "**EDA PHONE DF**"
   ]
  },
  {
   "cell_type": "code",
   "execution_count": 30,
   "id": "9536099f",
   "metadata": {
    "ExecuteTime": {
     "end_time": "2021-08-03T03:56:12.759726Z",
     "start_time": "2021-08-03T03:56:12.748070Z"
    }
   },
   "outputs": [
    {
     "data": {
      "text/html": [
       "<div>\n",
       "<style scoped>\n",
       "    .dataframe tbody tr th:only-of-type {\n",
       "        vertical-align: middle;\n",
       "    }\n",
       "\n",
       "    .dataframe tbody tr th {\n",
       "        vertical-align: top;\n",
       "    }\n",
       "\n",
       "    .dataframe thead th {\n",
       "        text-align: right;\n",
       "    }\n",
       "</style>\n",
       "<table border=\"1\" class=\"dataframe\">\n",
       "  <thead>\n",
       "    <tr style=\"text-align: right;\">\n",
       "      <th></th>\n",
       "      <th>customerID</th>\n",
       "      <th>MultipleLines</th>\n",
       "    </tr>\n",
       "  </thead>\n",
       "  <tbody>\n",
       "    <tr>\n",
       "      <th>2447</th>\n",
       "      <td>2608-BHKFN</td>\n",
       "      <td>No</td>\n",
       "    </tr>\n",
       "    <tr>\n",
       "      <th>351</th>\n",
       "      <td>0177-PXBAT</td>\n",
       "      <td>Yes</td>\n",
       "    </tr>\n",
       "    <tr>\n",
       "      <th>828</th>\n",
       "      <td>6513-EECDB</td>\n",
       "      <td>Yes</td>\n",
       "    </tr>\n",
       "    <tr>\n",
       "      <th>1702</th>\n",
       "      <td>7940-UQQUG</td>\n",
       "      <td>Yes</td>\n",
       "    </tr>\n",
       "    <tr>\n",
       "      <th>1930</th>\n",
       "      <td>7607-QKKTJ</td>\n",
       "      <td>Yes</td>\n",
       "    </tr>\n",
       "    <tr>\n",
       "      <th>6104</th>\n",
       "      <td>1241-FPMOF</td>\n",
       "      <td>No</td>\n",
       "    </tr>\n",
       "    <tr>\n",
       "      <th>5172</th>\n",
       "      <td>6476-YHMGA</td>\n",
       "      <td>No</td>\n",
       "    </tr>\n",
       "    <tr>\n",
       "      <th>5156</th>\n",
       "      <td>0193-ESZXP</td>\n",
       "      <td>No</td>\n",
       "    </tr>\n",
       "    <tr>\n",
       "      <th>1118</th>\n",
       "      <td>0178-SZBHO</td>\n",
       "      <td>Yes</td>\n",
       "    </tr>\n",
       "    <tr>\n",
       "      <th>5608</th>\n",
       "      <td>7542-CYDDM</td>\n",
       "      <td>No</td>\n",
       "    </tr>\n",
       "  </tbody>\n",
       "</table>\n",
       "</div>"
      ],
      "text/plain": [
       "      customerID MultipleLines\n",
       "2447  2608-BHKFN            No\n",
       "351   0177-PXBAT           Yes\n",
       "828   6513-EECDB           Yes\n",
       "1702  7940-UQQUG           Yes\n",
       "1930  7607-QKKTJ           Yes\n",
       "6104  1241-FPMOF            No\n",
       "5172  6476-YHMGA            No\n",
       "5156  0193-ESZXP            No\n",
       "1118  0178-SZBHO           Yes\n",
       "5608  7542-CYDDM            No"
      ]
     },
     "execution_count": 30,
     "metadata": {},
     "output_type": "execute_result"
    }
   ],
   "source": [
    "phone.sample(10)"
   ]
  },
  {
   "cell_type": "code",
   "execution_count": 31,
   "id": "ce9965eb",
   "metadata": {
    "ExecuteTime": {
     "end_time": "2021-08-03T03:56:12.775624Z",
     "start_time": "2021-08-03T03:56:12.762850Z"
    }
   },
   "outputs": [
    {
     "name": "stdout",
     "output_type": "stream",
     "text": [
      "<class 'pandas.core.frame.DataFrame'>\n",
      "RangeIndex: 6361 entries, 0 to 6360\n",
      "Data columns (total 2 columns):\n",
      " #   Column         Non-Null Count  Dtype \n",
      "---  ------         --------------  ----- \n",
      " 0   customerID     6361 non-null   object\n",
      " 1   MultipleLines  6361 non-null   object\n",
      "dtypes: object(2)\n",
      "memory usage: 99.5+ KB\n"
     ]
    }
   ],
   "source": [
    "phone.info()"
   ]
  },
  {
   "cell_type": "code",
   "execution_count": 32,
   "id": "d1159347",
   "metadata": {
    "ExecuteTime": {
     "end_time": "2021-08-03T03:56:12.959167Z",
     "start_time": "2021-08-03T03:56:12.777058Z"
    }
   },
   "outputs": [
    {
     "data": {
      "text/plain": [
       "<AxesSubplot:>"
      ]
     },
     "execution_count": 32,
     "metadata": {},
     "output_type": "execute_result"
    },
    {
     "data": {
      "image/png": "[encoded data removed]",
      "text/plain": [
       "<Figure size 460.8x403.2 with 1 Axes>"
      ]
     },
     "metadata": {},
     "output_type": "display_data"
    }
   ],
   "source": [
    "phone['MultipleLines'].value_counts().plot.bar()"
   ]
  },
  {
   "cell_type": "markdown",
   "id": "b2883697",
   "metadata": {
    "ExecuteTime": {
     "end_time": "2021-07-29T04:44:02.400502Z",
     "start_time": "2021-07-29T04:44:02.392648Z"
    }
   },
   "source": [
    "Признак распределен почти одинаково."
   ]
  },
  {
   "cell_type": "code",
   "execution_count": 33,
   "id": "e90254f5",
   "metadata": {
    "ExecuteTime": {
     "end_time": "2021-08-03T03:56:12.972459Z",
     "start_time": "2021-08-03T03:56:12.960616Z"
    }
   },
   "outputs": [
    {
     "data": {
      "text/plain": [
       "4835"
      ]
     },
     "execution_count": 33,
     "metadata": {},
     "output_type": "execute_result"
    }
   ],
   "source": [
    "internet['customerID'].isin(phone['customerID'].unique()).sum()"
   ]
  },
  {
   "cell_type": "markdown",
   "id": "d2775b57",
   "metadata": {},
   "source": [
    "имеем пересечение 68% датасета у кого имеются услуги и интернета и телефонии"
   ]
  },
  {
   "cell_type": "markdown",
   "id": "68ee0c4c",
   "metadata": {},
   "source": [
    "Объединим датасеты для дальнейшей работы"
   ]
  },
  {
   "cell_type": "code",
   "execution_count": 34,
   "id": "0c8a119c",
   "metadata": {
    "ExecuteTime": {
     "end_time": "2021-08-03T03:56:13.021123Z",
     "start_time": "2021-08-03T03:56:12.974139Z"
    }
   },
   "outputs": [],
   "source": [
    "# заполним пропуски строкой No, это позволит нам сохранить обекты и не \"раздует\" кодирование признаков\n",
    "full_telecom_data = contract.merge(personal)\n",
    "full_telecom_data = full_telecom_data.merge(phone, how='left').fillna('No')\n",
    "full_telecom_data = full_telecom_data.merge(internet, how='left').fillna('No')"
   ]
  },
  {
   "cell_type": "code",
   "execution_count": 35,
   "id": "7a9028cb",
   "metadata": {
    "ExecuteTime": {
     "end_time": "2021-08-03T03:56:13.070971Z",
     "start_time": "2021-08-03T03:56:13.022803Z"
    }
   },
   "outputs": [
    {
     "data": {
      "text/html": [
       "<div>\n",
       "<style scoped>\n",
       "    .dataframe tbody tr th:only-of-type {\n",
       "        vertical-align: middle;\n",
       "    }\n",
       "\n",
       "    .dataframe tbody tr th {\n",
       "        vertical-align: top;\n",
       "    }\n",
       "\n",
       "    .dataframe thead th {\n",
       "        text-align: right;\n",
       "    }\n",
       "</style>\n",
       "<table border=\"1\" class=\"dataframe\">\n",
       "  <thead>\n",
       "    <tr style=\"text-align: right;\">\n",
       "      <th></th>\n",
       "      <th>MonthlyCharges</th>\n",
       "      <th>TotalCharges</th>\n",
       "      <th>LifeTime</th>\n",
       "      <th>SeniorCitizen</th>\n",
       "      <th>Type_One year</th>\n",
       "      <th>Type_Two year</th>\n",
       "      <th>PaymentMethod_Credit card (automatic)</th>\n",
       "      <th>PaymentMethod_Electronic check</th>\n",
       "      <th>PaymentMethod_Mailed check</th>\n",
       "      <th>gender_Male</th>\n",
       "      <th>...</th>\n",
       "      <th>MultipleLines_Yes</th>\n",
       "      <th>InternetService_Fiber optic</th>\n",
       "      <th>InternetService_No</th>\n",
       "      <th>OnlineSecurity_Yes</th>\n",
       "      <th>OnlineBackup_Yes</th>\n",
       "      <th>DeviceProtection_Yes</th>\n",
       "      <th>TechSupport_Yes</th>\n",
       "      <th>StreamingTV_Yes</th>\n",
       "      <th>StreamingMovies_Yes</th>\n",
       "      <th>EndDate</th>\n",
       "    </tr>\n",
       "  </thead>\n",
       "  <tbody>\n",
       "    <tr>\n",
       "      <th>0</th>\n",
       "      <td>29.85</td>\n",
       "      <td>29.85</td>\n",
       "      <td>31</td>\n",
       "      <td>0</td>\n",
       "      <td>0</td>\n",
       "      <td>0</td>\n",
       "      <td>0</td>\n",
       "      <td>1</td>\n",
       "      <td>0</td>\n",
       "      <td>0</td>\n",
       "      <td>...</td>\n",
       "      <td>0</td>\n",
       "      <td>0</td>\n",
       "      <td>0</td>\n",
       "      <td>0</td>\n",
       "      <td>1</td>\n",
       "      <td>0</td>\n",
       "      <td>0</td>\n",
       "      <td>0</td>\n",
       "      <td>0</td>\n",
       "      <td>0</td>\n",
       "    </tr>\n",
       "    <tr>\n",
       "      <th>1</th>\n",
       "      <td>56.95</td>\n",
       "      <td>1889.50</td>\n",
       "      <td>1036</td>\n",
       "      <td>0</td>\n",
       "      <td>1</td>\n",
       "      <td>0</td>\n",
       "      <td>0</td>\n",
       "      <td>0</td>\n",
       "      <td>1</td>\n",
       "      <td>1</td>\n",
       "      <td>...</td>\n",
       "      <td>0</td>\n",
       "      <td>0</td>\n",
       "      <td>0</td>\n",
       "      <td>1</td>\n",
       "      <td>0</td>\n",
       "      <td>1</td>\n",
       "      <td>0</td>\n",
       "      <td>0</td>\n",
       "      <td>0</td>\n",
       "      <td>0</td>\n",
       "    </tr>\n",
       "    <tr>\n",
       "      <th>2</th>\n",
       "      <td>53.85</td>\n",
       "      <td>108.15</td>\n",
       "      <td>61</td>\n",
       "      <td>0</td>\n",
       "      <td>0</td>\n",
       "      <td>0</td>\n",
       "      <td>0</td>\n",
       "      <td>0</td>\n",
       "      <td>1</td>\n",
       "      <td>1</td>\n",
       "      <td>...</td>\n",
       "      <td>0</td>\n",
       "      <td>0</td>\n",
       "      <td>0</td>\n",
       "      <td>1</td>\n",
       "      <td>1</td>\n",
       "      <td>0</td>\n",
       "      <td>0</td>\n",
       "      <td>0</td>\n",
       "      <td>0</td>\n",
       "      <td>1</td>\n",
       "    </tr>\n",
       "    <tr>\n",
       "      <th>3</th>\n",
       "      <td>42.30</td>\n",
       "      <td>1840.75</td>\n",
       "      <td>1371</td>\n",
       "      <td>0</td>\n",
       "      <td>1</td>\n",
       "      <td>0</td>\n",
       "      <td>0</td>\n",
       "      <td>0</td>\n",
       "      <td>0</td>\n",
       "      <td>1</td>\n",
       "      <td>...</td>\n",
       "      <td>0</td>\n",
       "      <td>0</td>\n",
       "      <td>0</td>\n",
       "      <td>1</td>\n",
       "      <td>0</td>\n",
       "      <td>1</td>\n",
       "      <td>1</td>\n",
       "      <td>0</td>\n",
       "      <td>0</td>\n",
       "      <td>0</td>\n",
       "    </tr>\n",
       "    <tr>\n",
       "      <th>4</th>\n",
       "      <td>70.70</td>\n",
       "      <td>151.65</td>\n",
       "      <td>61</td>\n",
       "      <td>0</td>\n",
       "      <td>0</td>\n",
       "      <td>0</td>\n",
       "      <td>0</td>\n",
       "      <td>1</td>\n",
       "      <td>0</td>\n",
       "      <td>0</td>\n",
       "      <td>...</td>\n",
       "      <td>0</td>\n",
       "      <td>1</td>\n",
       "      <td>0</td>\n",
       "      <td>0</td>\n",
       "      <td>0</td>\n",
       "      <td>0</td>\n",
       "      <td>0</td>\n",
       "      <td>0</td>\n",
       "      <td>0</td>\n",
       "      <td>1</td>\n",
       "    </tr>\n",
       "  </tbody>\n",
       "</table>\n",
       "<p>5 rows × 22 columns</p>\n",
       "</div>"
      ],
      "text/plain": [
       "   MonthlyCharges  TotalCharges  LifeTime  SeniorCitizen  Type_One year  \\\n",
       "0           29.85         29.85        31              0              0   \n",
       "1           56.95       1889.50      1036              0              1   \n",
       "2           53.85        108.15        61              0              0   \n",
       "3           42.30       1840.75      1371              0              1   \n",
       "4           70.70        151.65        61              0              0   \n",
       "\n",
       "   Type_Two year  PaymentMethod_Credit card (automatic)  \\\n",
       "0              0                                      0   \n",
       "1              0                                      0   \n",
       "2              0                                      0   \n",
       "3              0                                      0   \n",
       "4              0                                      0   \n",
       "\n",
       "   PaymentMethod_Electronic check  PaymentMethod_Mailed check  gender_Male  \\\n",
       "0                               1                           0            0   \n",
       "1                               0                           1            1   \n",
       "2                               0                           1            1   \n",
       "3                               0                           0            1   \n",
       "4                               1                           0            0   \n",
       "\n",
       "   ...  MultipleLines_Yes  InternetService_Fiber optic  InternetService_No  \\\n",
       "0  ...                  0                            0                   0   \n",
       "1  ...                  0                            0                   0   \n",
       "2  ...                  0                            0                   0   \n",
       "3  ...                  0                            0                   0   \n",
       "4  ...                  0                            1                   0   \n",
       "\n",
       "   OnlineSecurity_Yes  OnlineBackup_Yes  DeviceProtection_Yes  \\\n",
       "0                   0                 1                     0   \n",
       "1                   1                 0                     1   \n",
       "2                   1                 1                     0   \n",
       "3                   1                 0                     1   \n",
       "4                   0                 0                     0   \n",
       "\n",
       "   TechSupport_Yes  StreamingTV_Yes  StreamingMovies_Yes  EndDate  \n",
       "0                0                0                    0        0  \n",
       "1                0                0                    0        0  \n",
       "2                0                0                    0        1  \n",
       "3                1                0                    0        0  \n",
       "4                0                0                    0        1  \n",
       "\n",
       "[5 rows x 22 columns]"
      ]
     },
     "execution_count": 35,
     "metadata": {},
     "output_type": "execute_result"
    }
   ],
   "source": [
    "# закодируем категориальные признаки методом OHE\n",
    "\n",
    "ohe_data = pd.get_dummies(full_telecom_data.drop(columns=['EndDate','customerID']), drop_first=True)\n",
    "ohe_data[['EndDate']]=full_telecom_data[['EndDate']]\n",
    "\n",
    "ohe_data.head()"
   ]
  },
  {
   "cell_type": "code",
   "execution_count": 36,
   "id": "c8143181",
   "metadata": {
    "ExecuteTime": {
     "end_time": "2021-08-03T03:56:13.080652Z",
     "start_time": "2021-08-03T03:56:13.073558Z"
    }
   },
   "outputs": [],
   "source": [
    "def prob(group_by):\n",
    "    df = pd.crosstab(index = full_telecom_data[group_by], columns = full_telecom_data.EndDate).reset_index()\n",
    "    df['prob'] = df[1] / (df[1] + df[0])\n",
    "    return df[[group_by, 'prob']]"
   ]
  },
  {
   "cell_type": "code",
   "execution_count": 37,
   "id": "b7dc93c4",
   "metadata": {
    "ExecuteTime": {
     "end_time": "2021-08-03T03:56:13.323198Z",
     "start_time": "2021-08-03T03:56:13.084883Z"
    }
   },
   "outputs": [
    {
     "data": {
      "text/html": [
       "<div>\n",
       "<style scoped>\n",
       "    .dataframe tbody tr th:only-of-type {\n",
       "        vertical-align: middle;\n",
       "    }\n",
       "\n",
       "    .dataframe tbody tr th {\n",
       "        vertical-align: top;\n",
       "    }\n",
       "\n",
       "    .dataframe thead th {\n",
       "        text-align: right;\n",
       "    }\n",
       "</style>\n",
       "<table border=\"1\" class=\"dataframe\">\n",
       "  <thead>\n",
       "    <tr style=\"text-align: right;\">\n",
       "      <th>EndDate</th>\n",
       "      <th>gender</th>\n",
       "      <th>prob</th>\n",
       "    </tr>\n",
       "  </thead>\n",
       "  <tbody>\n",
       "    <tr>\n",
       "      <th>0</th>\n",
       "      <td>Female</td>\n",
       "      <td>0.269209</td>\n",
       "    </tr>\n",
       "    <tr>\n",
       "      <th>1</th>\n",
       "      <td>Male</td>\n",
       "      <td>0.261603</td>\n",
       "    </tr>\n",
       "  </tbody>\n",
       "</table>\n",
       "</div>"
      ],
      "text/plain": [
       "EndDate  gender      prob\n",
       "0        Female  0.269209\n",
       "1          Male  0.261603"
      ]
     },
     "metadata": {},
     "output_type": "display_data"
    },
    {
     "data": {
      "text/html": [
       "<div>\n",
       "<style scoped>\n",
       "    .dataframe tbody tr th:only-of-type {\n",
       "        vertical-align: middle;\n",
       "    }\n",
       "\n",
       "    .dataframe tbody tr th {\n",
       "        vertical-align: top;\n",
       "    }\n",
       "\n",
       "    .dataframe thead th {\n",
       "        text-align: right;\n",
       "    }\n",
       "</style>\n",
       "<table border=\"1\" class=\"dataframe\">\n",
       "  <thead>\n",
       "    <tr style=\"text-align: right;\">\n",
       "      <th>EndDate</th>\n",
       "      <th>Partner</th>\n",
       "      <th>prob</th>\n",
       "    </tr>\n",
       "  </thead>\n",
       "  <tbody>\n",
       "    <tr>\n",
       "      <th>0</th>\n",
       "      <td>No</td>\n",
       "      <td>0.329580</td>\n",
       "    </tr>\n",
       "    <tr>\n",
       "      <th>1</th>\n",
       "      <td>Yes</td>\n",
       "      <td>0.196649</td>\n",
       "    </tr>\n",
       "  </tbody>\n",
       "</table>\n",
       "</div>"
      ],
      "text/plain": [
       "EndDate Partner      prob\n",
       "0            No  0.329580\n",
       "1           Yes  0.196649"
      ]
     },
     "metadata": {},
     "output_type": "display_data"
    },
    {
     "data": {
      "text/html": [
       "<div>\n",
       "<style scoped>\n",
       "    .dataframe tbody tr th:only-of-type {\n",
       "        vertical-align: middle;\n",
       "    }\n",
       "\n",
       "    .dataframe tbody tr th {\n",
       "        vertical-align: top;\n",
       "    }\n",
       "\n",
       "    .dataframe thead th {\n",
       "        text-align: right;\n",
       "    }\n",
       "</style>\n",
       "<table border=\"1\" class=\"dataframe\">\n",
       "  <thead>\n",
       "    <tr style=\"text-align: right;\">\n",
       "      <th>EndDate</th>\n",
       "      <th>Dependents</th>\n",
       "      <th>prob</th>\n",
       "    </tr>\n",
       "  </thead>\n",
       "  <tbody>\n",
       "    <tr>\n",
       "      <th>0</th>\n",
       "      <td>No</td>\n",
       "      <td>0.312791</td>\n",
       "    </tr>\n",
       "    <tr>\n",
       "      <th>1</th>\n",
       "      <td>Yes</td>\n",
       "      <td>0.154502</td>\n",
       "    </tr>\n",
       "  </tbody>\n",
       "</table>\n",
       "</div>"
      ],
      "text/plain": [
       "EndDate Dependents      prob\n",
       "0               No  0.312791\n",
       "1              Yes  0.154502"
      ]
     },
     "metadata": {},
     "output_type": "display_data"
    },
    {
     "data": {
      "text/html": [
       "<div>\n",
       "<style scoped>\n",
       "    .dataframe tbody tr th:only-of-type {\n",
       "        vertical-align: middle;\n",
       "    }\n",
       "\n",
       "    .dataframe tbody tr th {\n",
       "        vertical-align: top;\n",
       "    }\n",
       "\n",
       "    .dataframe thead th {\n",
       "        text-align: right;\n",
       "    }\n",
       "</style>\n",
       "<table border=\"1\" class=\"dataframe\">\n",
       "  <thead>\n",
       "    <tr style=\"text-align: right;\">\n",
       "      <th>EndDate</th>\n",
       "      <th>MultipleLines</th>\n",
       "      <th>prob</th>\n",
       "    </tr>\n",
       "  </thead>\n",
       "  <tbody>\n",
       "    <tr>\n",
       "      <th>0</th>\n",
       "      <td>No</td>\n",
       "      <td>0.250246</td>\n",
       "    </tr>\n",
       "    <tr>\n",
       "      <th>1</th>\n",
       "      <td>Yes</td>\n",
       "      <td>0.286099</td>\n",
       "    </tr>\n",
       "  </tbody>\n",
       "</table>\n",
       "</div>"
      ],
      "text/plain": [
       "EndDate MultipleLines      prob\n",
       "0                  No  0.250246\n",
       "1                 Yes  0.286099"
      ]
     },
     "metadata": {},
     "output_type": "display_data"
    },
    {
     "data": {
      "text/html": [
       "<div>\n",
       "<style scoped>\n",
       "    .dataframe tbody tr th:only-of-type {\n",
       "        vertical-align: middle;\n",
       "    }\n",
       "\n",
       "    .dataframe tbody tr th {\n",
       "        vertical-align: top;\n",
       "    }\n",
       "\n",
       "    .dataframe thead th {\n",
       "        text-align: right;\n",
       "    }\n",
       "</style>\n",
       "<table border=\"1\" class=\"dataframe\">\n",
       "  <thead>\n",
       "    <tr style=\"text-align: right;\">\n",
       "      <th>EndDate</th>\n",
       "      <th>InternetService</th>\n",
       "      <th>prob</th>\n",
       "    </tr>\n",
       "  </thead>\n",
       "  <tbody>\n",
       "    <tr>\n",
       "      <th>0</th>\n",
       "      <td>DSL</td>\n",
       "      <td>0.189591</td>\n",
       "    </tr>\n",
       "    <tr>\n",
       "      <th>1</th>\n",
       "      <td>Fiber optic</td>\n",
       "      <td>0.418928</td>\n",
       "    </tr>\n",
       "    <tr>\n",
       "      <th>2</th>\n",
       "      <td>No</td>\n",
       "      <td>0.074050</td>\n",
       "    </tr>\n",
       "  </tbody>\n",
       "</table>\n",
       "</div>"
      ],
      "text/plain": [
       "EndDate InternetService      prob\n",
       "0                   DSL  0.189591\n",
       "1           Fiber optic  0.418928\n",
       "2                    No  0.074050"
      ]
     },
     "metadata": {},
     "output_type": "display_data"
    },
    {
     "data": {
      "text/html": [
       "<div>\n",
       "<style scoped>\n",
       "    .dataframe tbody tr th:only-of-type {\n",
       "        vertical-align: middle;\n",
       "    }\n",
       "\n",
       "    .dataframe tbody tr th {\n",
       "        vertical-align: top;\n",
       "    }\n",
       "\n",
       "    .dataframe thead th {\n",
       "        text-align: right;\n",
       "    }\n",
       "</style>\n",
       "<table border=\"1\" class=\"dataframe\">\n",
       "  <thead>\n",
       "    <tr style=\"text-align: right;\">\n",
       "      <th>EndDate</th>\n",
       "      <th>OnlineSecurity</th>\n",
       "      <th>prob</th>\n",
       "    </tr>\n",
       "  </thead>\n",
       "  <tbody>\n",
       "    <tr>\n",
       "      <th>0</th>\n",
       "      <td>No</td>\n",
       "      <td>0.313296</td>\n",
       "    </tr>\n",
       "    <tr>\n",
       "      <th>1</th>\n",
       "      <td>Yes</td>\n",
       "      <td>0.146112</td>\n",
       "    </tr>\n",
       "  </tbody>\n",
       "</table>\n",
       "</div>"
      ],
      "text/plain": [
       "EndDate OnlineSecurity      prob\n",
       "0                   No  0.313296\n",
       "1                  Yes  0.146112"
      ]
     },
     "metadata": {},
     "output_type": "display_data"
    },
    {
     "data": {
      "text/html": [
       "<div>\n",
       "<style scoped>\n",
       "    .dataframe tbody tr th:only-of-type {\n",
       "        vertical-align: middle;\n",
       "    }\n",
       "\n",
       "    .dataframe tbody tr th {\n",
       "        vertical-align: top;\n",
       "    }\n",
       "\n",
       "    .dataframe thead th {\n",
       "        text-align: right;\n",
       "    }\n",
       "</style>\n",
       "<table border=\"1\" class=\"dataframe\">\n",
       "  <thead>\n",
       "    <tr style=\"text-align: right;\">\n",
       "      <th>EndDate</th>\n",
       "      <th>OnlineBackup</th>\n",
       "      <th>prob</th>\n",
       "    </tr>\n",
       "  </thead>\n",
       "  <tbody>\n",
       "    <tr>\n",
       "      <th>0</th>\n",
       "      <td>No</td>\n",
       "      <td>0.291721</td>\n",
       "    </tr>\n",
       "    <tr>\n",
       "      <th>1</th>\n",
       "      <td>Yes</td>\n",
       "      <td>0.215315</td>\n",
       "    </tr>\n",
       "  </tbody>\n",
       "</table>\n",
       "</div>"
      ],
      "text/plain": [
       "EndDate OnlineBackup      prob\n",
       "0                 No  0.291721\n",
       "1                Yes  0.215315"
      ]
     },
     "metadata": {},
     "output_type": "display_data"
    },
    {
     "data": {
      "text/html": [
       "<div>\n",
       "<style scoped>\n",
       "    .dataframe tbody tr th:only-of-type {\n",
       "        vertical-align: middle;\n",
       "    }\n",
       "\n",
       "    .dataframe tbody tr th {\n",
       "        vertical-align: top;\n",
       "    }\n",
       "\n",
       "    .dataframe thead th {\n",
       "        text-align: right;\n",
       "    }\n",
       "</style>\n",
       "<table border=\"1\" class=\"dataframe\">\n",
       "  <thead>\n",
       "    <tr style=\"text-align: right;\">\n",
       "      <th>EndDate</th>\n",
       "      <th>DeviceProtection</th>\n",
       "      <th>prob</th>\n",
       "    </tr>\n",
       "  </thead>\n",
       "  <tbody>\n",
       "    <tr>\n",
       "      <th>0</th>\n",
       "      <td>No</td>\n",
       "      <td>0.286518</td>\n",
       "    </tr>\n",
       "    <tr>\n",
       "      <th>1</th>\n",
       "      <td>Yes</td>\n",
       "      <td>0.225021</td>\n",
       "    </tr>\n",
       "  </tbody>\n",
       "</table>\n",
       "</div>"
      ],
      "text/plain": [
       "EndDate DeviceProtection      prob\n",
       "0                     No  0.286518\n",
       "1                    Yes  0.225021"
      ]
     },
     "metadata": {},
     "output_type": "display_data"
    },
    {
     "data": {
      "text/html": [
       "<div>\n",
       "<style scoped>\n",
       "    .dataframe tbody tr th:only-of-type {\n",
       "        vertical-align: middle;\n",
       "    }\n",
       "\n",
       "    .dataframe tbody tr th {\n",
       "        vertical-align: top;\n",
       "    }\n",
       "\n",
       "    .dataframe thead th {\n",
       "        text-align: right;\n",
       "    }\n",
       "</style>\n",
       "<table border=\"1\" class=\"dataframe\">\n",
       "  <thead>\n",
       "    <tr style=\"text-align: right;\">\n",
       "      <th>EndDate</th>\n",
       "      <th>TechSupport</th>\n",
       "      <th>prob</th>\n",
       "    </tr>\n",
       "  </thead>\n",
       "  <tbody>\n",
       "    <tr>\n",
       "      <th>0</th>\n",
       "      <td>No</td>\n",
       "      <td>0.311862</td>\n",
       "    </tr>\n",
       "    <tr>\n",
       "      <th>1</th>\n",
       "      <td>Yes</td>\n",
       "      <td>0.151663</td>\n",
       "    </tr>\n",
       "  </tbody>\n",
       "</table>\n",
       "</div>"
      ],
      "text/plain": [
       "EndDate TechSupport      prob\n",
       "0                No  0.311862\n",
       "1               Yes  0.151663"
      ]
     },
     "metadata": {},
     "output_type": "display_data"
    },
    {
     "data": {
      "text/html": [
       "<div>\n",
       "<style scoped>\n",
       "    .dataframe tbody tr th:only-of-type {\n",
       "        vertical-align: middle;\n",
       "    }\n",
       "\n",
       "    .dataframe tbody tr th {\n",
       "        vertical-align: top;\n",
       "    }\n",
       "\n",
       "    .dataframe thead th {\n",
       "        text-align: right;\n",
       "    }\n",
       "</style>\n",
       "<table border=\"1\" class=\"dataframe\">\n",
       "  <thead>\n",
       "    <tr style=\"text-align: right;\">\n",
       "      <th>EndDate</th>\n",
       "      <th>StreamingTV</th>\n",
       "      <th>prob</th>\n",
       "    </tr>\n",
       "  </thead>\n",
       "  <tbody>\n",
       "    <tr>\n",
       "      <th>0</th>\n",
       "      <td>No</td>\n",
       "      <td>0.243312</td>\n",
       "    </tr>\n",
       "    <tr>\n",
       "      <th>1</th>\n",
       "      <td>Yes</td>\n",
       "      <td>0.300702</td>\n",
       "    </tr>\n",
       "  </tbody>\n",
       "</table>\n",
       "</div>"
      ],
      "text/plain": [
       "EndDate StreamingTV      prob\n",
       "0                No  0.243312\n",
       "1               Yes  0.300702"
      ]
     },
     "metadata": {},
     "output_type": "display_data"
    },
    {
     "data": {
      "text/html": [
       "<div>\n",
       "<style scoped>\n",
       "    .dataframe tbody tr th:only-of-type {\n",
       "        vertical-align: middle;\n",
       "    }\n",
       "\n",
       "    .dataframe tbody tr th {\n",
       "        vertical-align: top;\n",
       "    }\n",
       "\n",
       "    .dataframe thead th {\n",
       "        text-align: right;\n",
       "    }\n",
       "</style>\n",
       "<table border=\"1\" class=\"dataframe\">\n",
       "  <thead>\n",
       "    <tr style=\"text-align: right;\">\n",
       "      <th>EndDate</th>\n",
       "      <th>StreamingMovies</th>\n",
       "      <th>prob</th>\n",
       "    </tr>\n",
       "  </thead>\n",
       "  <tbody>\n",
       "    <tr>\n",
       "      <th>0</th>\n",
       "      <td>No</td>\n",
       "      <td>0.243795</td>\n",
       "    </tr>\n",
       "    <tr>\n",
       "      <th>1</th>\n",
       "      <td>Yes</td>\n",
       "      <td>0.299414</td>\n",
       "    </tr>\n",
       "  </tbody>\n",
       "</table>\n",
       "</div>"
      ],
      "text/plain": [
       "EndDate StreamingMovies      prob\n",
       "0                    No  0.243795\n",
       "1                   Yes  0.299414"
      ]
     },
     "metadata": {},
     "output_type": "display_data"
    }
   ],
   "source": [
    "prob_col= ['gender',  'Partner',\n",
    "       'Dependents', 'MultipleLines', 'InternetService', 'OnlineSecurity',\n",
    "       'OnlineBackup', 'DeviceProtection', 'TechSupport', 'StreamingTV',\n",
    "       'StreamingMovies']\n",
    "for col in prob_col:\n",
    "    display(prob(col))"
   ]
  },
  {
   "cell_type": "code",
   "execution_count": 38,
   "id": "58e49165",
   "metadata": {
    "ExecuteTime": {
     "end_time": "2021-08-03T03:56:13.509191Z",
     "start_time": "2021-08-03T03:56:13.324555Z"
    }
   },
   "outputs": [
    {
     "data": {
      "text/plain": [
       "<AxesSubplot:>"
      ]
     },
     "execution_count": 38,
     "metadata": {},
     "output_type": "execute_result"
    },
    {
     "data": {
      "image/png": "[encoded data removed]",
      "text/plain": [
       "<Figure size 460.8x403.2 with 2 Axes>"
      ]
     },
     "metadata": {},
     "output_type": "display_data"
    }
   ],
   "source": [
    "correl = full_telecom_data.drop(columns=['EndDate','SeniorCitizen']).corr()\n",
    "\n",
    "# построим тепловую карту\n",
    "sns.heatmap(correl, xticklabels=correl.columns,\n",
    "            yticklabels=correl.columns)"
   ]
  },
  {
   "cell_type": "code",
   "execution_count": 39,
   "id": "35192c40",
   "metadata": {
    "ExecuteTime": {
     "end_time": "2021-08-03T03:56:13.521044Z",
     "start_time": "2021-08-03T03:56:13.510719Z"
    }
   },
   "outputs": [
    {
     "data": {
      "text/html": [
       "<div>\n",
       "<style scoped>\n",
       "    .dataframe tbody tr th:only-of-type {\n",
       "        vertical-align: middle;\n",
       "    }\n",
       "\n",
       "    .dataframe tbody tr th {\n",
       "        vertical-align: top;\n",
       "    }\n",
       "\n",
       "    .dataframe thead th {\n",
       "        text-align: right;\n",
       "    }\n",
       "</style>\n",
       "<table border=\"1\" class=\"dataframe\">\n",
       "  <thead>\n",
       "    <tr style=\"text-align: right;\">\n",
       "      <th></th>\n",
       "      <th>MonthlyCharges</th>\n",
       "      <th>TotalCharges</th>\n",
       "      <th>LifeTime</th>\n",
       "    </tr>\n",
       "  </thead>\n",
       "  <tbody>\n",
       "    <tr>\n",
       "      <th>MonthlyCharges</th>\n",
       "      <td>1.000000</td>\n",
       "      <td>0.651182</td>\n",
       "      <td>0.247754</td>\n",
       "    </tr>\n",
       "    <tr>\n",
       "      <th>TotalCharges</th>\n",
       "      <td>0.651182</td>\n",
       "      <td>1.000000</td>\n",
       "      <td>0.826095</td>\n",
       "    </tr>\n",
       "    <tr>\n",
       "      <th>LifeTime</th>\n",
       "      <td>0.247754</td>\n",
       "      <td>0.826095</td>\n",
       "      <td>1.000000</td>\n",
       "    </tr>\n",
       "  </tbody>\n",
       "</table>\n",
       "</div>"
      ],
      "text/plain": [
       "                MonthlyCharges  TotalCharges  LifeTime\n",
       "MonthlyCharges        1.000000      0.651182  0.247754\n",
       "TotalCharges          0.651182      1.000000  0.826095\n",
       "LifeTime              0.247754      0.826095  1.000000"
      ]
     },
     "execution_count": 39,
     "metadata": {},
     "output_type": "execute_result"
    }
   ],
   "source": [
    "correl"
   ]
  },
  {
   "cell_type": "markdown",
   "id": "0aa5b059",
   "metadata": {},
   "source": [
    "Похоже имеется мультиколинеарность между MonthlyCharges, TotalCharge, LifeTime что закономерно. Избавимся от TotalCharges, так как корреляция между остальными признаками низкая."
   ]
  },
  {
   "cell_type": "code",
   "execution_count": 40,
   "id": "3e2d4cdf",
   "metadata": {
    "ExecuteTime": {
     "end_time": "2021-08-03T03:56:13.529943Z",
     "start_time": "2021-08-03T03:56:13.522903Z"
    }
   },
   "outputs": [],
   "source": [
    "ohe_data.drop(columns=['TotalCharges'], inplace=True)"
   ]
  },
  {
   "cell_type": "markdown",
   "id": "113de325",
   "metadata": {},
   "source": [
    "**Вывод:**  \n",
    "В рамках раздела мы проделали следующую работу:  \n",
    "1. Загрузили и оценили данные.  \n",
    "2. Преобразовали поля к нужным типам.  \n",
    "3. Избавились от лишних признаов, в том числе после оценки мультиколинеарности.  \n",
    "4. Закодировали признаки методом OHE\n"
   ]
  },
  {
   "cell_type": "markdown",
   "id": "5e2b8a60",
   "metadata": {
    "ExecuteTime": {
     "end_time": "2021-07-31T13:49:42.092372Z",
     "start_time": "2021-07-31T13:49:42.059421Z"
    }
   },
   "source": [
    "## 2. исследование задачи"
   ]
  },
  {
   "cell_type": "code",
   "execution_count": 41,
   "id": "6ee159bb",
   "metadata": {
    "ExecuteTime": {
     "end_time": "2021-08-03T03:56:13.550494Z",
     "start_time": "2021-08-03T03:56:13.533676Z"
    }
   },
   "outputs": [],
   "source": [
    "# выделим признаки и поделим их на обучающую и тестовую выборки\n",
    "features = ohe_data.drop(columns=['EndDate'])\n",
    "target = ohe_data['EndDate']\n",
    "\n",
    "features_train, features_test, target_train, target_test = train_test_split(features, target,\n",
    "                                                                            test_size=0.20, random_state=2021)"
   ]
  },
  {
   "cell_type": "code",
   "execution_count": 42,
   "id": "9b7ead8e",
   "metadata": {
    "ExecuteTime": {
     "end_time": "2021-08-03T03:56:13.562018Z",
     "start_time": "2021-08-03T03:56:13.554173Z"
    }
   },
   "outputs": [
    {
     "data": {
      "text/plain": [
       "0    0.73463\n",
       "1    0.26537\n",
       "Name: EndDate, dtype: float64"
      ]
     },
     "execution_count": 42,
     "metadata": {},
     "output_type": "execute_result"
    }
   ],
   "source": [
    "# оценим дисбананс целевого признака\n",
    "target.value_counts(normalize=True)"
   ]
  },
  {
   "cell_type": "markdown",
   "id": "c5712dd1",
   "metadata": {},
   "source": [
    "Для борьбы с дисбалансом я буду использовать параметр моделей class_weight, так как по предыдущим работам такой способ показал аналогичную с upscale эффективность. Из-за небольшого кол-ва признагов downscale в работе не целесообразен."
   ]
  },
  {
   "cell_type": "code",
   "execution_count": 43,
   "id": "aa2ff659",
   "metadata": {
    "ExecuteTime": {
     "end_time": "2021-08-03T03:56:13.570854Z",
     "start_time": "2021-08-03T03:56:13.565044Z"
    }
   },
   "outputs": [],
   "source": [
    "# подготовим оценщик дл кросс валидации\n",
    "scorer_roc_auc = make_scorer(roc_auc_score, greater_is_better=True)\n",
    "scorer_accuracy = make_scorer(accuracy_score, greater_is_better=True)\n",
    "\n",
    "scoring = {'AUC': scorer_roc_auc, 'Accuracy': scorer_accuracy}"
   ]
  },
  {
   "cell_type": "markdown",
   "id": "4fa32d07",
   "metadata": {},
   "source": [
    "**ОБУЧЕНИЕ МОДЕЛЕЙ**"
   ]
  },
  {
   "cell_type": "markdown",
   "id": "50299836",
   "metadata": {},
   "source": [
    "Начнём с линейной регрессии"
   ]
  },
  {
   "cell_type": "code",
   "execution_count": 46,
   "id": "a4bf3b34",
   "metadata": {
    "ExecuteTime": {
     "end_time": "2021-08-03T03:57:14.999419Z",
     "start_time": "2021-08-03T03:57:14.611394Z"
    }
   },
   "outputs": [
    {
     "name": "stdout",
     "output_type": "stream",
     "text": [
      "Среднее значение метрики roc-auc: 0.7651654107438979\n",
      "Среднее значение метрики accuracy: 0.7497318365140481\n",
      "CPU times: user 1.62 s, sys: 1.74 s, total: 3.36 s\n",
      "Wall time: 383 ms\n"
     ]
    }
   ],
   "source": [
    "%%time\n",
    "best_result = 0\n",
    "model = LogisticRegression(class_weight='balanced',\n",
    "                           solver='liblinear', max_iter=400)\n",
    "score = cross_validate(model, features_train, target_train,\n",
    "                       scoring=scoring, cv=5, return_train_score=True)\n",
    "print(\"Среднее значение метрики roc-auc:\", score['test_AUC'].mean())\n",
    "print(\"Среднее значение метрики accuracy:\", score['test_Accuracy'].mean())"
   ]
  },
  {
   "cell_type": "markdown",
   "id": "c4a9ee3d",
   "metadata": {},
   "source": [
    "модель с ходу даёт значение метрики достаточное для сдачи проекта:)"
   ]
  },
  {
   "cell_type": "markdown",
   "id": "adf3de15",
   "metadata": {},
   "source": [
    "Дерево решений:"
   ]
  },
  {
   "cell_type": "code",
   "execution_count": 47,
   "id": "1f91ff85",
   "metadata": {
    "ExecuteTime": {
     "end_time": "2021-08-03T03:57:16.278603Z",
     "start_time": "2021-08-03T03:57:15.014363Z"
    }
   },
   "outputs": [
    {
     "name": "stdout",
     "output_type": "stream",
     "text": [
      "Среднее значение метрики roc-auc при max_depth=6: 0.7605536428754209\n",
      "Среднее значение метрики accuracy при max_depth=6: 0.7490323892318531\n",
      "_________________________________________________________\n"
     ]
    }
   ],
   "source": [
    "sc = 0\n",
    "for depth in range(6, 20, 2):\n",
    "    model = DecisionTreeClassifier(\n",
    "        max_depth=depth, random_state=2021, class_weight='balanced')\n",
    "    score = cross_validate(model, features_train, target_train,\n",
    "                           scoring=scoring, cv=5, return_train_score=True)\n",
    "    if score['test_AUC'].mean() > sc:\n",
    "        print(\n",
    "            f\"Среднее значение метрики roc-auc при max_depth={depth}:\", score['test_AUC'].mean())\n",
    "        print(\n",
    "            f\"Среднее значение метрики accuracy при max_depth={depth}:\", score['test_Accuracy'].mean())\n",
    "        print(\"_________________________________________________________\")\n",
    "        sc = score['test_AUC'].mean()"
   ]
  },
  {
   "cell_type": "markdown",
   "id": "7e2765d3",
   "metadata": {
    "ExecuteTime": {
     "end_time": "2021-08-01T17:33:09.654534Z",
     "start_time": "2021-08-01T17:33:09.650003Z"
    }
   },
   "source": [
    "немного хуже результат у целевой метрики у модели DecisionTreeClassifier"
   ]
  },
  {
   "cell_type": "markdown",
   "id": "f3c4cfa3",
   "metadata": {},
   "source": [
    "Случайный лес:"
   ]
  },
  {
   "cell_type": "code",
   "execution_count": 48,
   "id": "f25234f8",
   "metadata": {
    "ExecuteTime": {
     "end_time": "2021-08-03T03:58:42.216892Z",
     "start_time": "2021-08-03T03:57:16.280834Z"
    }
   },
   "outputs": [
    {
     "name": "stdout",
     "output_type": "stream",
     "text": [
      "Среднее значение метрики roc-auc при max_depth=6 и n_estimators=10: 0.7697176852298421\n",
      "Среднее значение метрики accuracy при max_depth=6 и n_estimators=10: 0.7641110100693302\n",
      "_________________________________________________________\n",
      "Среднее значение метрики roc-auc при max_depth=6 и n_estimators=20: 0.7712655167158017\n",
      "Среднее значение метрики accuracy при max_depth=6 и n_estimators=20: 0.7628664099820173\n",
      "_________________________________________________________\n",
      "Среднее значение метрики roc-auc при max_depth=6 и n_estimators=30: 0.7722304092420659\n",
      "Среднее значение метрики accuracy при max_depth=6 и n_estimators=30: 0.7626905237343993\n",
      "_________________________________________________________\n",
      "Среднее значение метрики roc-auc при max_depth=6 и n_estimators=40: 0.7763717801019354\n",
      "Среднее значение метрики accuracy при max_depth=6 и n_estimators=40: 0.7662402423321633\n",
      "_________________________________________________________\n",
      "Среднее значение метрики roc-auc при max_depth=8 и n_estimators=30: 0.7767807765594943\n",
      "Среднее значение метрики accuracy при max_depth=8 и n_estimators=30: 0.7770676484355422\n",
      "_________________________________________________________\n",
      "Среднее значение метрики roc-auc при max_depth=8 и n_estimators=40: 0.7789963993950335\n",
      "Среднее значение метрики accuracy при max_depth=8 и n_estimators=40: 0.7793743429876391\n",
      "_________________________________________________________\n"
     ]
    }
   ],
   "source": [
    "sc = 0\n",
    "for depth in range(6, 20, 2):\n",
    "    for estimators in range(10, 100, 10):\n",
    "        model = RandomForestClassifier(\n",
    "            n_estimators=estimators, max_depth=depth, random_state=2021, class_weight='balanced')\n",
    "        score = cross_validate(model, features_train, target_train,\n",
    "                               scoring=scoring, cv=5, return_train_score=True)\n",
    "        if score['test_AUC'].mean() > sc:\n",
    "            print(\n",
    "                f\"Среднее значение метрики roc-auc при max_depth={depth} и n_estimators={estimators}:\", score['test_AUC'].mean())\n",
    "            print(\n",
    "                f\"Среднее значение метрики accuracy при max_depth={depth} и n_estimators={estimators}:\", score['test_Accuracy'].mean())\n",
    "            print(\"_________________________________________________________\")\n",
    "            sc = score['test_AUC'].mean()"
   ]
  },
  {
   "cell_type": "markdown",
   "id": "21a6f283",
   "metadata": {
    "ExecuteTime": {
     "end_time": "2021-08-01T17:37:25.434965Z",
     "start_time": "2021-08-01T17:37:25.431143Z"
    }
   },
   "source": [
    "Пока самый лучший результат у случайного леса"
   ]
  },
  {
   "cell_type": "markdown",
   "id": "03b1265f",
   "metadata": {},
   "source": [
    "LGBM:"
   ]
  },
  {
   "cell_type": "code",
   "execution_count": 49,
   "id": "91ce995c",
   "metadata": {
    "ExecuteTime": {
     "end_time": "2021-08-03T03:58:49.325534Z",
     "start_time": "2021-08-03T03:58:42.220446Z"
    }
   },
   "outputs": [
    {
     "name": "stdout",
     "output_type": "stream",
     "text": [
      "Среднее значение метрики roc-auc: 0.8551288974175103\n",
      "Среднее значение метрики accuracy: 0.8679444161632528\n",
      "CPU times: user 1min 15s, sys: 343 ms, total: 1min 15s\n",
      "Wall time: 7.09 s\n"
     ]
    }
   ],
   "source": [
    "%%time\n",
    "model = lgb.LGBMClassifier(boosting_type='gbdt', objective='binary', num_leaves=16, colsample_bytree=0.2,\n",
    "                           min_child_weight=0.3, reg_alpha=0.2, min_child_samples=10, min_split_gain=0.019,\n",
    "                           learning_rate=0.06, n_estimators=1100, max_depth=15, class_weight='balanced', random_state=2021)\n",
    "score = cross_validate(model, features_train,\n",
    "                       target_train, scoring=scoring, cv=5)\n",
    "print(f\"Среднее значение метрики roc-auc:\", score['test_AUC'].mean())\n",
    "print(f\"Среднее значение метрики accuracy:\", score['test_Accuracy'].mean())"
   ]
  },
  {
   "cell_type": "markdown",
   "id": "d3d10ea4",
   "metadata": {
    "ExecuteTime": {
     "end_time": "2021-08-01T13:04:25.000549Z",
     "start_time": "2021-08-01T13:04:24.996590Z"
    }
   },
   "source": [
    "Для тюнинга модели я использова итеративный подход для каждого параметра, чтобы не захламлять тетрадку, я исключил процесс подбора параметров. Можно было бы использовать GridSearch, но без него проще остановить процесс обучения, если итерация какого-то параметра не даёт заметного положителього эффекта.  \n",
    "В целом модель очень хорошо себя показала при тюнинге и по скорости работы. На дефолтных параметрах модель показала уже 0.81 по roc-auc на кросс валидации."
   ]
  },
  {
   "cell_type": "markdown",
   "id": "5cd172ff",
   "metadata": {},
   "source": [
    "CatBoost:"
   ]
  },
  {
   "cell_type": "code",
   "execution_count": 50,
   "id": "65004220",
   "metadata": {
    "ExecuteTime": {
     "end_time": "2021-08-03T03:59:05.684403Z",
     "start_time": "2021-08-03T03:58:49.327994Z"
    }
   },
   "outputs": [
    {
     "name": "stdout",
     "output_type": "stream",
     "text": [
      "Среднее значение метрики roc-auc: 0.8296753522574496\n",
      "Среднее значение метрики accuracy: 0.8553430175838967\n",
      "CPU times: user 1min 5s, sys: 16.8 s, total: 1min 22s\n",
      "Wall time: 16.3 s\n"
     ]
    }
   ],
   "source": [
    "%%time\n",
    "model = CatBoostClassifier(verbose=False, eval_metric='AUC', auto_class_weights='Balanced', \n",
    "                           n_estimators=900, learning_rate=0.05, depth=6,l2_leaf_reg=3,\n",
    "                          random_strength=1,bagging_temperature=1)                           \n",
    "score = cross_validate(model, features_train, target_train, scoring=scoring, cv=5)\n",
    "print(f\"Среднее значение метрики roc-auc:\", score['test_AUC'].mean())\n",
    "print(f\"Среднее значение метрики accuracy:\", score['test_Accuracy'].mean())"
   ]
  },
  {
   "cell_type": "markdown",
   "id": "82729000",
   "metadata": {},
   "source": [
    "Для тюнинга модели так же использовал итеративный подход. По дефолту модель показала результат хуже, чем LGBM, плюс в процессе тюнинга не удалось добиться значительного прироста. Максимального показателя roc-auc удалось добиться указав только параметр n_estimators, тюнинг прочих параметров в замене от дефолтных давал только обратный результат. В целом модель значительно дольше обучается, что делает тюнинг очень трудоемким процессом.  \n",
    "Возможно низкая оттада от нюнинга связана с OHE, в рекомендациях по тюнингу https://catboost.ai/docs/concepts/parameter-tuning.html предупреждают об этом, но с учётом ограниченной вариативности параметров с трудом верится, что это может существенно отразиться на модели. В любом случае стоит попробовать ordinal encoder."
   ]
  },
  {
   "cell_type": "code",
   "execution_count": 51,
   "id": "4c1c5eca",
   "metadata": {
    "ExecuteTime": {
     "end_time": "2021-08-03T03:59:05.776707Z",
     "start_time": "2021-08-03T03:59:05.688878Z"
    }
   },
   "outputs": [
    {
     "data": {
      "text/html": [
       "<div>\n",
       "<style scoped>\n",
       "    .dataframe tbody tr th:only-of-type {\n",
       "        vertical-align: middle;\n",
       "    }\n",
       "\n",
       "    .dataframe tbody tr th {\n",
       "        vertical-align: top;\n",
       "    }\n",
       "\n",
       "    .dataframe thead th {\n",
       "        text-align: right;\n",
       "    }\n",
       "</style>\n",
       "<table border=\"1\" class=\"dataframe\">\n",
       "  <thead>\n",
       "    <tr style=\"text-align: right;\">\n",
       "      <th></th>\n",
       "      <th>Type</th>\n",
       "      <th>PaymentMethod</th>\n",
       "      <th>gender</th>\n",
       "      <th>Partner</th>\n",
       "      <th>Dependents</th>\n",
       "      <th>MultipleLines</th>\n",
       "      <th>InternetService</th>\n",
       "      <th>OnlineSecurity</th>\n",
       "      <th>OnlineBackup</th>\n",
       "      <th>DeviceProtection</th>\n",
       "      <th>TechSupport</th>\n",
       "      <th>StreamingTV</th>\n",
       "      <th>StreamingMovies</th>\n",
       "      <th>EndDate</th>\n",
       "      <th>MonthlyCharges</th>\n",
       "      <th>TotalCharges</th>\n",
       "      <th>LifeTime</th>\n",
       "      <th>SeniorCitizen</th>\n",
       "    </tr>\n",
       "  </thead>\n",
       "  <tbody>\n",
       "    <tr>\n",
       "      <th>0</th>\n",
       "      <td>0.0</td>\n",
       "      <td>2.0</td>\n",
       "      <td>0.0</td>\n",
       "      <td>1.0</td>\n",
       "      <td>0.0</td>\n",
       "      <td>0.0</td>\n",
       "      <td>0.0</td>\n",
       "      <td>0.0</td>\n",
       "      <td>1.0</td>\n",
       "      <td>0.0</td>\n",
       "      <td>0.0</td>\n",
       "      <td>0.0</td>\n",
       "      <td>0.0</td>\n",
       "      <td>0</td>\n",
       "      <td>29.85</td>\n",
       "      <td>29.85</td>\n",
       "      <td>31</td>\n",
       "      <td>0</td>\n",
       "    </tr>\n",
       "    <tr>\n",
       "      <th>1</th>\n",
       "      <td>1.0</td>\n",
       "      <td>3.0</td>\n",
       "      <td>1.0</td>\n",
       "      <td>0.0</td>\n",
       "      <td>0.0</td>\n",
       "      <td>0.0</td>\n",
       "      <td>0.0</td>\n",
       "      <td>1.0</td>\n",
       "      <td>0.0</td>\n",
       "      <td>1.0</td>\n",
       "      <td>0.0</td>\n",
       "      <td>0.0</td>\n",
       "      <td>0.0</td>\n",
       "      <td>0</td>\n",
       "      <td>56.95</td>\n",
       "      <td>1889.50</td>\n",
       "      <td>1036</td>\n",
       "      <td>0</td>\n",
       "    </tr>\n",
       "    <tr>\n",
       "      <th>2</th>\n",
       "      <td>0.0</td>\n",
       "      <td>3.0</td>\n",
       "      <td>1.0</td>\n",
       "      <td>0.0</td>\n",
       "      <td>0.0</td>\n",
       "      <td>0.0</td>\n",
       "      <td>0.0</td>\n",
       "      <td>1.0</td>\n",
       "      <td>1.0</td>\n",
       "      <td>0.0</td>\n",
       "      <td>0.0</td>\n",
       "      <td>0.0</td>\n",
       "      <td>0.0</td>\n",
       "      <td>1</td>\n",
       "      <td>53.85</td>\n",
       "      <td>108.15</td>\n",
       "      <td>61</td>\n",
       "      <td>0</td>\n",
       "    </tr>\n",
       "    <tr>\n",
       "      <th>3</th>\n",
       "      <td>1.0</td>\n",
       "      <td>0.0</td>\n",
       "      <td>1.0</td>\n",
       "      <td>0.0</td>\n",
       "      <td>0.0</td>\n",
       "      <td>0.0</td>\n",
       "      <td>0.0</td>\n",
       "      <td>1.0</td>\n",
       "      <td>0.0</td>\n",
       "      <td>1.0</td>\n",
       "      <td>1.0</td>\n",
       "      <td>0.0</td>\n",
       "      <td>0.0</td>\n",
       "      <td>0</td>\n",
       "      <td>42.30</td>\n",
       "      <td>1840.75</td>\n",
       "      <td>1371</td>\n",
       "      <td>0</td>\n",
       "    </tr>\n",
       "    <tr>\n",
       "      <th>4</th>\n",
       "      <td>0.0</td>\n",
       "      <td>2.0</td>\n",
       "      <td>0.0</td>\n",
       "      <td>0.0</td>\n",
       "      <td>0.0</td>\n",
       "      <td>0.0</td>\n",
       "      <td>1.0</td>\n",
       "      <td>0.0</td>\n",
       "      <td>0.0</td>\n",
       "      <td>0.0</td>\n",
       "      <td>0.0</td>\n",
       "      <td>0.0</td>\n",
       "      <td>0.0</td>\n",
       "      <td>1</td>\n",
       "      <td>70.70</td>\n",
       "      <td>151.65</td>\n",
       "      <td>61</td>\n",
       "      <td>0</td>\n",
       "    </tr>\n",
       "  </tbody>\n",
       "</table>\n",
       "</div>"
      ],
      "text/plain": [
       "   Type  PaymentMethod  gender  Partner  Dependents  MultipleLines  \\\n",
       "0   0.0            2.0     0.0      1.0         0.0            0.0   \n",
       "1   1.0            3.0     1.0      0.0         0.0            0.0   \n",
       "2   0.0            3.0     1.0      0.0         0.0            0.0   \n",
       "3   1.0            0.0     1.0      0.0         0.0            0.0   \n",
       "4   0.0            2.0     0.0      0.0         0.0            0.0   \n",
       "\n",
       "   InternetService  OnlineSecurity  OnlineBackup  DeviceProtection  \\\n",
       "0              0.0             0.0           1.0               0.0   \n",
       "1              0.0             1.0           0.0               1.0   \n",
       "2              0.0             1.0           1.0               0.0   \n",
       "3              0.0             1.0           0.0               1.0   \n",
       "4              1.0             0.0           0.0               0.0   \n",
       "\n",
       "   TechSupport  StreamingTV  StreamingMovies  EndDate  MonthlyCharges  \\\n",
       "0          0.0          0.0              0.0        0           29.85   \n",
       "1          0.0          0.0              0.0        0           56.95   \n",
       "2          0.0          0.0              0.0        1           53.85   \n",
       "3          1.0          0.0              0.0        0           42.30   \n",
       "4          0.0          0.0              0.0        1           70.70   \n",
       "\n",
       "   TotalCharges  LifeTime  SeniorCitizen  \n",
       "0         29.85        31              0  \n",
       "1       1889.50      1036              0  \n",
       "2        108.15        61              0  \n",
       "3       1840.75      1371              0  \n",
       "4        151.65        61              0  "
      ]
     },
     "execution_count": 51,
     "metadata": {},
     "output_type": "execute_result"
    }
   ],
   "source": [
    "# категориальные признаки закодируем методом Ordinal encoder\n",
    "\n",
    "cat_columns = ['Type', 'PaymentMethod',  'gender',  'Partner',\n",
    "       'Dependents', 'MultipleLines', 'InternetService', 'OnlineSecurity',\n",
    "       'OnlineBackup', 'DeviceProtection', 'TechSupport', 'StreamingTV',\n",
    "       'StreamingMovies']\n",
    "\n",
    "encoder = OrdinalEncoder()\n",
    "\n",
    "ordinal_data = pd.DataFrame(encoder.fit_transform(full_telecom_data[cat_columns]), \n",
    "                                                      columns=cat_columns) \n",
    "\n",
    "ord_data = ordinal_data.join(full_telecom_data[['EndDate', 'MonthlyCharges', 'TotalCharges',\n",
    "                                                'LifeTime', 'SeniorCitizen']])\n",
    "ord_data.head()"
   ]
  },
  {
   "cell_type": "code",
   "execution_count": 52,
   "id": "e62c5241",
   "metadata": {
    "ExecuteTime": {
     "end_time": "2021-08-03T03:59:05.793279Z",
     "start_time": "2021-08-03T03:59:05.778454Z"
    }
   },
   "outputs": [],
   "source": [
    "# выделим признаки и поделим их на обучающую и тестовую выборки\n",
    "features = ord_data.drop(columns=['EndDate'])\n",
    "target = ord_data['EndDate']\n",
    "\n",
    "features_train,features_test, target_train, target_test = train_test_split(features, target,\n",
    "                                                                           test_size=0.20, random_state=2021)"
   ]
  },
  {
   "cell_type": "code",
   "execution_count": 53,
   "id": "cd13fc80",
   "metadata": {
    "ExecuteTime": {
     "end_time": "2021-08-03T03:59:13.339882Z",
     "start_time": "2021-08-03T03:59:05.797163Z"
    }
   },
   "outputs": [
    {
     "name": "stdout",
     "output_type": "stream",
     "text": [
      "Среднее значение метрики roc-auc: 0.822704406168914\n",
      "Среднее значение метрики accuracy: 0.8358169648274787\n",
      "CPU times: user 1min 19s, sys: 376 ms, total: 1min 20s\n",
      "Wall time: 7.53 s\n"
     ]
    }
   ],
   "source": [
    "%%time\n",
    "model = lgb.LGBMClassifier(boosting_type='gbdt', objective='binary', num_leaves=16, colsample_bytree=0.2,\n",
    "                           min_child_weight=0.3, reg_alpha=0.2,min_child_samples=10,min_split_gain=0.019,\n",
    "                           learning_rate=0.06, n_estimators=1100, max_depth=15,class_weight='balanced', random_state=2021)\n",
    "score = cross_validate(model, features_train, target_train, scoring=scoring, cv=5)\n",
    "print(f\"Среднее значение метрики roc-auc:\", score['test_AUC'].mean())\n",
    "print(f\"Среднее значение метрики accuracy:\", score['test_Accuracy'].mean())"
   ]
  },
  {
   "cell_type": "markdown",
   "id": "52d2e158",
   "metadata": {},
   "source": [
    "Ordinal encoder ухудшил значение метрики для LGBM, возможно с учётом изменения кол-ва входных параметров требуется новый тюнинг модели."
   ]
  },
  {
   "cell_type": "code",
   "execution_count": 54,
   "id": "cc472faf",
   "metadata": {
    "ExecuteTime": {
     "end_time": "2021-08-03T03:59:29.067543Z",
     "start_time": "2021-08-03T03:59:13.342296Z"
    }
   },
   "outputs": [
    {
     "name": "stdout",
     "output_type": "stream",
     "text": [
      "Среднее значение метрики roc-auc: 0.8194967043072824\n",
      "Среднее значение метрики accuracy: 0.8425628958819609\n",
      "CPU times: user 1min 5s, sys: 16.2 s, total: 1min 21s\n",
      "Wall time: 15.7 s\n"
     ]
    }
   ],
   "source": [
    "%%time\n",
    "model = CatBoostClassifier(verbose=False, eval_metric='AUC', auto_class_weights='Balanced', n_estimators=900, \n",
    "                           learning_rate=0.05, depth=6, l2_leaf_reg=3, random_strength=1,bagging_temperature=1)                           \n",
    "score = cross_validate(model, features_train, target_train, scoring=scoring, cv=5)\n",
    "print(f\"Среднее значение метрики roc-auc:\", score['test_AUC'].mean())\n",
    "print(f\"Среднее значение метрики accuracy:\", score['test_Accuracy'].mean())"
   ]
  },
  {
   "cell_type": "markdown",
   "id": "491df2c3",
   "metadata": {},
   "source": [
    "Ordinal encoder немного улучшил значение метрики, но прирост не дал победы над LGBM."
   ]
  },
  {
   "cell_type": "markdown",
   "id": "4e395a51",
   "metadata": {},
   "source": [
    "**Вывод:**  \n",
    "Наилучшие результаты показали модели градиентного бустинга. Среди них особенно выделяется модель LGBM, так как показала хорошее качество с дефолтными параметрами и обеспечила 5% прирост за счёт тюнинга. Так же можно отметить высокую скорость работы модели. catboost оказалась в 3 раза медленнее, хотя среди преимуществ разработчики выделяют как раз производительность в сравнении с тем же LGB. Так же модель дала минимальный прирост от тюнинга, фактически ни один параметр кроме n_estimators не оказал никакого значения на качество модели. Немного улучшить качество удалось за счёт кодирования методом Ordinal encoder."
   ]
  },
  {
   "cell_type": "markdown",
   "id": "7cea2abd",
   "metadata": {},
   "source": [
    "## 3.Тестирование"
   ]
  },
  {
   "cell_type": "code",
   "execution_count": 55,
   "id": "a50c7147",
   "metadata": {
    "ExecuteTime": {
     "end_time": "2021-08-03T03:59:29.083003Z",
     "start_time": "2021-08-03T03:59:29.071217Z"
    }
   },
   "outputs": [],
   "source": [
    "features = ohe_data.drop(columns=['EndDate'])\n",
    "target = ohe_data['EndDate']\n",
    "\n",
    "features_train,features_test, target_train, target_test = train_test_split(features, target,\n",
    "                                                                           test_size=0.20, random_state=2021)"
   ]
  },
  {
   "cell_type": "code",
   "execution_count": 89,
   "id": "f812234d",
   "metadata": {
    "ExecuteTime": {
     "end_time": "2021-08-03T04:32:07.965685Z",
     "start_time": "2021-08-03T04:32:05.373296Z"
    }
   },
   "outputs": [
    {
     "name": "stdout",
     "output_type": "stream",
     "text": [
      "Значение метрики accuracy: 0.8644428672817601\n",
      "TRUE?Значение метрики roc-auc: 0.9407715800829622\n",
      "CPU times: user 17.2 s, sys: 54.2 ms, total: 17.2 s\n",
      "Wall time: 2.58 s\n"
     ]
    }
   ],
   "source": [
    "%%time\n",
    "model = lgb.LGBMClassifier(boosting_type='gbdt', objective='binary', num_leaves=16, colsample_bytree=0.2, metrics=['auc','accuracy'],\n",
    "                           min_child_weight=0.3, reg_alpha=0.2,min_child_samples=10,min_split_gain=0.019,\n",
    "                           learning_rate=0.06, n_estimators=1100, max_depth=15, class_weight='balanced', random_state=2021)\n",
    "model.fit(features_train, target_train)\n",
    "predict = model.predict(features_test)\n",
    "proba = model.predict_proba(features_test)\n",
    "# print(f\"Значение метрики roc-auc:\", roc_auc_score(target_test, predict))\n",
    "print(f\"Значение метрики accuracy:\", accuracy_score(target_test, predict))\n",
    "\n",
    "predict_one = proba[:, 1]\n",
    "auc_roc = roc_auc_score(target_test, predict_one)\n",
    "print(f\"TRUE?Значение метрики roc-auc:\", auc_roc)"
   ]
  },
  {
   "cell_type": "markdown",
   "id": "ac8a3406",
   "metadata": {
    "ExecuteTime": {
     "end_time": "2021-08-03T04:31:21.288159Z",
     "start_time": "2021-08-03T04:31:21.278646Z"
    }
   },
   "source": [
    "На тестовой выборке получили результат даже немного выше кросс валидации."
   ]
  },
  {
   "cell_type": "markdown",
   "id": "378fe93e",
   "metadata": {},
   "source": [
    "Добавил картинку:"
   ]
  },
  {
   "cell_type": "code",
   "execution_count": 75,
   "id": "cd6cd6ef",
   "metadata": {
    "ExecuteTime": {
     "end_time": "2021-08-03T04:12:56.720510Z",
     "start_time": "2021-08-03T04:12:56.593203Z"
    }
   },
   "outputs": [
    {
     "data": {
      "image/png": "[encoded data removed]",
      "text/plain": [
       "<Figure size 460.8x403.2 with 1 Axes>"
      ]
     },
     "metadata": {},
     "output_type": "display_data"
    }
   ],
   "source": [
    "fpr, tpr, thresholds = roc_curve(target_test, predict_one) \n",
    "\n",
    "plt.figure()\n",
    "\n",
    "plt.plot(fpr, tpr)\n",
    "plt.plot([0, 1], [0, 1], linestyle='--')\n",
    "\n",
    "plt.xlim([0.0, 1.0])\n",
    "plt.ylim([0.0, 1.0])\n",
    "plt.xlabel('False Positive Rate')\n",
    "plt.ylabel('True Positive Rate')\n",
    "plt.title('ROC-кривая')\n",
    "plt.show() "
   ]
  },
  {
   "cell_type": "markdown",
   "id": "2cc514ec",
   "metadata": {},
   "source": [
    "Матрица ошибок:"
   ]
  },
  {
   "cell_type": "code",
   "execution_count": 101,
   "id": "af2e3634",
   "metadata": {
    "ExecuteTime": {
     "end_time": "2021-08-03T04:47:52.989119Z",
     "start_time": "2021-08-03T04:47:52.818722Z"
    }
   },
   "outputs": [
    {
     "data": {
      "image/png": "[encoded data removed]",
      "text/plain": [
       "<Figure size 460.8x403.2 with 2 Axes>"
      ]
     },
     "metadata": {},
     "output_type": "display_data"
    }
   ],
   "source": [
    "cm = confusion_matrix(target_test, predict)\n",
    "cm = cm.astype('float') / cm.sum(axis=1)[:, np.newaxis]\n",
    "ax = sns.heatmap(cm, annot=True)\n",
    "ax.set(xlabel='predicted', ylabel='true')\n",
    "ax.set_title(\"Confusing matrix\");"
   ]
  },
  {
   "cell_type": "code",
   "execution_count": 108,
   "id": "b93e1e72",
   "metadata": {
    "ExecuteTime": {
     "end_time": "2021-08-03T05:03:39.282554Z",
     "start_time": "2021-08-03T05:03:39.045411Z"
    }
   },
   "outputs": [
    {
     "data": {
      "text/plain": [
       "<AxesSubplot:title={'center':'Feature importance'}, xlabel='Feature importance', ylabel='Features'>"
      ]
     },
     "execution_count": 108,
     "metadata": {},
     "output_type": "execute_result"
    },
    {
     "data": {
      "image/png": "[encoded data removed]",
      "text/plain": [
       "<Figure size 1080x360 with 1 Axes>"
      ]
     },
     "metadata": {},
     "output_type": "display_data"
    }
   ],
   "source": [
    "lgb.plot_importance(model, title='Feature importance', xlabel='Feature importance', ylabel='Features', importance_type='split', figsize=(15,5))"
   ]
  },
  {
   "cell_type": "markdown",
   "id": "7621eefb",
   "metadata": {},
   "source": [
    "предсказуемо, наибольшую важность делают время жизни и размер месячного платежа. Так же автоматическая оплата карточкой интуитивно подсказывала привязанность. Интересно что наличие партнера на третьем месте."
   ]
  },
  {
   "cell_type": "markdown",
   "id": "e2f77847",
   "metadata": {},
   "source": [
    "**ИТОГОВЫЙ ВЫВОД:**"
   ]
  },
  {
   "cell_type": "markdown",
   "id": "870b3231",
   "metadata": {},
   "source": [
    "По итогу проекта мы продедали следующую работу:  \n",
    "1. Загрузили и оценили данные.  \n",
    "2. Преобразовали поля к нужным типам.  \n",
    "3. Избавились от лишних признаов, в том числе после оценки мультиколинеарности.  \n",
    "4. Закодировали признаки методом OHE\n",
    "5. Обучили и оценили 5 моделей, подобрали параметры для максимизации качества моделей.\n",
    "6. Протестировали модель с лучшими результатами.\n",
    "\n",
    "Наилучшие результаты показали модели градиентного бустинга. Среди них особенно выделяется модель LGBM, так как показала хорошее качество с дефолтными параметрами и обеспечила 5% прирост за счёт тюнинга. Так же можно отметить высокую скорость работы модели. catboost оказалась в 3 раза медленнее, хотя среди преимуществ разработчики выделяют как раз производительность в сравнении с тем же LGB. Так же модель дала минимальный прирост от тюнинга, фактически ни один параметр кроме n_estimators не оказал никакого значения на качество модели. Немного улучшить качество удалось за счёт кодирования методом Ordinal encoder.  \n",
    "На тестовой выборке получили результат даже немного выше кросс валидации, ориентируясь на метрику Accuracy, можно сказать что мы научились предсказывать отток с вероятностью 86%.\n"
   ]
  },
  {
   "cell_type": "code",
   "execution_count": null,
   "id": "31e47d86",
   "metadata": {},
   "outputs": [],
   "source": []
  },
  {
   "cell_type": "code",
   "execution_count": null,
   "id": "ffddb9ee",
   "metadata": {},
   "outputs": [],
   "source": []
  }
 ],
 "metadata": {
  "ExecuteTimeLog": [
   {
    "duration": 1633,
    "start_time": "2021-08-02T17:32:57.050Z"
   },
   {
    "duration": 2968,
    "start_time": "2021-08-02T17:33:00.989Z"
   },
   {
    "duration": 121,
    "start_time": "2021-08-02T17:33:24.922Z"
   },
   {
    "duration": 2755,
    "start_time": "2021-08-02T17:33:33.556Z"
   },
   {
    "duration": 7128,
    "start_time": "2021-08-02T17:34:50.052Z"
   },
   {
    "duration": 483,
    "start_time": "2021-08-02T17:35:39.842Z"
   },
   {
    "duration": 136,
    "start_time": "2021-08-02T17:36:34.835Z"
   },
   {
    "duration": 382,
    "start_time": "2021-08-02T17:50:04.975Z"
   },
   {
    "duration": 6,
    "start_time": "2021-08-02T17:50:11.066Z"
   },
   {
    "duration": 464,
    "start_time": "2021-08-02T17:50:11.075Z"
   },
   {
    "duration": -2055,
    "start_time": "2021-08-02T17:50:13.599Z"
   },
   {
    "duration": -2065,
    "start_time": "2021-08-02T17:50:13.611Z"
   },
   {
    "duration": -2073,
    "start_time": "2021-08-02T17:50:13.620Z"
   },
   {
    "duration": -2102,
    "start_time": "2021-08-02T17:50:13.651Z"
   },
   {
    "duration": -2111,
    "start_time": "2021-08-02T17:50:13.661Z"
   },
   {
    "duration": -2114,
    "start_time": "2021-08-02T17:50:13.665Z"
   },
   {
    "duration": -2121,
    "start_time": "2021-08-02T17:50:13.673Z"
   },
   {
    "duration": -2130,
    "start_time": "2021-08-02T17:50:13.683Z"
   },
   {
    "duration": -2139,
    "start_time": "2021-08-02T17:50:13.693Z"
   },
   {
    "duration": -2146,
    "start_time": "2021-08-02T17:50:13.703Z"
   },
   {
    "duration": -2156,
    "start_time": "2021-08-02T17:50:13.714Z"
   },
   {
    "duration": -2164,
    "start_time": "2021-08-02T17:50:13.724Z"
   },
   {
    "duration": -2172,
    "start_time": "2021-08-02T17:50:13.733Z"
   },
   {
    "duration": -2198,
    "start_time": "2021-08-02T17:50:13.761Z"
   },
   {
    "duration": -2206,
    "start_time": "2021-08-02T17:50:13.770Z"
   },
   {
    "duration": -2214,
    "start_time": "2021-08-02T17:50:13.780Z"
   },
   {
    "duration": -2226,
    "start_time": "2021-08-02T17:50:13.793Z"
   },
   {
    "duration": -2234,
    "start_time": "2021-08-02T17:50:13.802Z"
   },
   {
    "duration": -2243,
    "start_time": "2021-08-02T17:50:13.813Z"
   },
   {
    "duration": -2251,
    "start_time": "2021-08-02T17:50:13.822Z"
   },
   {
    "duration": -2261,
    "start_time": "2021-08-02T17:50:13.833Z"
   },
   {
    "duration": -2268,
    "start_time": "2021-08-02T17:50:13.842Z"
   },
   {
    "duration": -2276,
    "start_time": "2021-08-02T17:50:13.851Z"
   },
   {
    "duration": -2302,
    "start_time": "2021-08-02T17:50:13.879Z"
   },
   {
    "duration": -2311,
    "start_time": "2021-08-02T17:50:13.889Z"
   },
   {
    "duration": -2319,
    "start_time": "2021-08-02T17:50:13.898Z"
   },
   {
    "duration": -2328,
    "start_time": "2021-08-02T17:50:13.908Z"
   },
   {
    "duration": -2314,
    "start_time": "2021-08-02T17:50:13.917Z"
   },
   {
    "duration": -2322,
    "start_time": "2021-08-02T17:50:13.927Z"
   },
   {
    "duration": -2326,
    "start_time": "2021-08-02T17:50:13.934Z"
   },
   {
    "duration": -2337,
    "start_time": "2021-08-02T17:50:13.947Z"
   },
   {
    "duration": -2346,
    "start_time": "2021-08-02T17:50:13.958Z"
   },
   {
    "duration": -2355,
    "start_time": "2021-08-02T17:50:13.969Z"
   },
   {
    "duration": -2377,
    "start_time": "2021-08-02T17:50:13.993Z"
   },
   {
    "duration": 6,
    "start_time": "2021-08-02T17:50:45.298Z"
   },
   {
    "duration": 18,
    "start_time": "2021-08-02T17:50:45.307Z"
   },
   {
    "duration": 363,
    "start_time": "2021-08-02T17:50:45.329Z"
   },
   {
    "duration": 26,
    "start_time": "2021-08-02T17:50:45.695Z"
   },
   {
    "duration": 16,
    "start_time": "2021-08-02T17:50:45.725Z"
   },
   {
    "duration": 14,
    "start_time": "2021-08-02T17:50:45.744Z"
   },
   {
    "duration": 41,
    "start_time": "2021-08-02T17:50:45.760Z"
   },
   {
    "duration": 6,
    "start_time": "2021-08-02T17:50:45.804Z"
   },
   {
    "duration": 13,
    "start_time": "2021-08-02T17:50:45.815Z"
   },
   {
    "duration": 530,
    "start_time": "2021-08-02T17:50:45.832Z"
   },
   {
    "duration": 12,
    "start_time": "2021-08-02T17:50:46.365Z"
   },
   {
    "duration": 29,
    "start_time": "2021-08-02T17:50:46.381Z"
   },
   {
    "duration": 21,
    "start_time": "2021-08-02T17:50:46.412Z"
   },
   {
    "duration": 22,
    "start_time": "2021-08-02T17:50:46.437Z"
   },
   {
    "duration": 47,
    "start_time": "2021-08-02T17:50:46.463Z"
   },
   {
    "duration": 288,
    "start_time": "2021-08-02T17:50:46.512Z"
   },
   {
    "duration": 273,
    "start_time": "2021-08-02T17:50:46.803Z"
   },
   {
    "duration": 492,
    "start_time": "2021-08-02T17:50:47.079Z"
   },
   {
    "duration": 50,
    "start_time": "2021-08-02T17:50:47.573Z"
   },
   {
    "duration": 564,
    "start_time": "2021-08-02T17:50:47.626Z"
   },
   {
    "duration": 35,
    "start_time": "2021-08-02T17:50:48.192Z"
   },
   {
    "duration": 12,
    "start_time": "2021-08-02T17:50:48.229Z"
   },
   {
    "duration": 1700,
    "start_time": "2021-08-02T17:50:48.246Z"
   },
   {
    "duration": 15,
    "start_time": "2021-08-02T17:50:49.949Z"
   },
   {
    "duration": 36,
    "start_time": "2021-08-02T17:50:49.966Z"
   },
   {
    "duration": 264,
    "start_time": "2021-08-02T17:50:50.005Z"
   },
   {
    "duration": 6,
    "start_time": "2021-08-02T17:50:50.274Z"
   },
   {
    "duration": 263,
    "start_time": "2021-08-02T17:50:50.284Z"
   },
   {
    "duration": 242,
    "start_time": "2021-08-02T17:50:50.550Z"
   },
   {
    "duration": 20,
    "start_time": "2021-08-02T17:50:50.794Z"
   },
   {
    "duration": 11,
    "start_time": "2021-08-02T17:50:50.817Z"
   },
   {
    "duration": 263,
    "start_time": "2021-08-02T17:50:50.831Z"
   },
   {
    "duration": 12,
    "start_time": "2021-08-02T17:50:51.100Z"
   },
   {
    "duration": 92,
    "start_time": "2021-08-02T17:50:51.116Z"
   },
   {
    "duration": 74,
    "start_time": "2021-08-02T17:50:51.212Z"
   },
   {
    "duration": 47,
    "start_time": "2021-08-02T17:50:51.305Z"
   },
   {
    "duration": 8,
    "start_time": "2021-08-02T17:51:50.694Z"
   },
   {
    "duration": 10,
    "start_time": "2021-08-02T17:51:57.107Z"
   },
   {
    "duration": 12,
    "start_time": "2021-08-02T17:52:55.676Z"
   },
   {
    "duration": 117,
    "start_time": "2021-08-02T17:53:15.072Z"
   },
   {
    "duration": 14,
    "start_time": "2021-08-02T17:53:22.194Z"
   },
   {
    "duration": 22,
    "start_time": "2021-08-02T17:53:43.308Z"
   },
   {
    "duration": 379,
    "start_time": "2021-08-02T17:57:15.396Z"
   },
   {
    "duration": 40,
    "start_time": "2021-08-02T17:57:23.004Z"
   },
   {
    "duration": 5,
    "start_time": "2021-08-02T17:58:44.417Z"
   },
   {
    "duration": 363,
    "start_time": "2021-08-02T17:58:58.662Z"
   },
   {
    "duration": 10719,
    "start_time": "2021-08-02T17:59:08.892Z"
   },
   {
    "duration": 33,
    "start_time": "2021-08-02T17:59:33.706Z"
   },
   {
    "duration": 11,
    "start_time": "2021-08-02T17:59:39.821Z"
   },
   {
    "duration": 5,
    "start_time": "2021-08-02T18:00:46.190Z"
   },
   {
    "duration": 37,
    "start_time": "2021-08-02T18:00:51.814Z"
   },
   {
    "duration": 6,
    "start_time": "2021-08-02T18:03:52.615Z"
   },
   {
    "duration": 31,
    "start_time": "2021-08-02T18:04:00.241Z"
   },
   {
    "duration": 59,
    "start_time": "2021-08-02T18:06:34.878Z"
   },
   {
    "duration": 376,
    "start_time": "2021-08-02T18:07:40.360Z"
   },
   {
    "duration": 270,
    "start_time": "2021-08-02T18:07:51.859Z"
   },
   {
    "duration": 12,
    "start_time": "2021-08-02T18:08:02.072Z"
   },
   {
    "duration": 68,
    "start_time": "2021-08-02T18:08:59.174Z"
   },
   {
    "duration": 475,
    "start_time": "2021-08-02T18:11:27.544Z"
   },
   {
    "duration": 442,
    "start_time": "2021-08-02T18:12:36.664Z"
   }
  ],
  "kernelspec": {
   "display_name": "Python 3",
   "language": "python",
   "name": "python3"
  },
  "language_info": {
   "codemirror_mode": {
    "name": "ipython",
    "version": 3
   },
   "file_extension": ".py",
   "mimetype": "text/x-python",
   "name": "python",
   "nbconvert_exporter": "python",
   "pygments_lexer": "ipython3",
   "version": "3.8.8"
  },
  "toc": {
   "base_numbering": 1,
   "nav_menu": {},
   "number_sections": true,
   "sideBar": true,
   "skip_h1_title": true,
   "title_cell": "Table of Contents",
   "title_sidebar": "Contents",
   "toc_cell": false,
   "toc_position": {},
   "toc_section_display": true,
   "toc_window_display": false
  }
 },
 "nbformat": 4,
 "nbformat_minor": 5
}
